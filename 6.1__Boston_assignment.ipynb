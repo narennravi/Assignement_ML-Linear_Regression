{
  "nbformat": 4,
  "nbformat_minor": 0,
  "metadata": {
    "colab": {
      "provenance": []
    },
    "kernelspec": {
      "name": "python3",
      "display_name": "Python 3"
    },
    "language_info": {
      "name": "python"
    }
  },
  "cells": [
    {
      "cell_type": "markdown",
      "source": [
        "Importing Necessary libraries"
      ],
      "metadata": {
        "id": "T9cq2i6Mcu19"
      }
    },
    {
      "cell_type": "code",
      "execution_count": null,
      "metadata": {
        "id": "4SGdoeKsMjcl"
      },
      "outputs": [],
      "source": [
        "import pandas as pd\n",
        "import numpy as np\n",
        "import matplotlib.pyplot as plt\n",
        "import seaborn as sns\n",
        "import warnings\n",
        "warnings.filterwarnings('ignore')"
      ]
    },
    {
      "cell_type": "markdown",
      "source": [
        "Importing CSV file into @GL-colab"
      ],
      "metadata": {
        "id": "HoEBRFz2cg2A"
      }
    },
    {
      "cell_type": "code",
      "source": [
        "df_train_set = pd.read_csv('/content/train.csv')\n",
        "df_test_set = pd.read_csv('/content/test.csv')"
      ],
      "metadata": {
        "id": "KdrRPtwTM8zW"
      },
      "execution_count": null,
      "outputs": []
    },
    {
      "cell_type": "code",
      "source": [
        "df_train_set.head(5)"
      ],
      "metadata": {
        "colab": {
          "base_uri": "https://localhost:8080/",
          "height": 270
        },
        "id": "H8OTP4XoNhxe",
        "outputId": "ef2f4f3c-d0fe-4e36-8909-4e4cdf1066e3"
      },
      "execution_count": null,
      "outputs": [
        {
          "output_type": "execute_result",
          "data": {
            "text/plain": [
              "   ID     CRIM    ZN  INDUS  CHAS    NOX     RM    AGE     DIS  RAD    TAX  \\\n",
              "0   0  0.95577   0.0   8.14     0  0.538  6.047   88.8  4.4534    4  307.0   \n",
              "1   1  0.02875  28.0  15.04     0  0.464  6.211   28.9  3.6659    4  270.0   \n",
              "2   2  1.22358   0.0  19.58     0  0.605  6.943   97.4  1.8773    5  403.0   \n",
              "3   3  5.66637   0.0  18.10     0  0.740  6.219  100.0  2.0048   24  666.0   \n",
              "4   4  0.04544   0.0   3.24     0  0.460  6.144   32.2  5.8736    4  430.0   \n",
              "\n",
              "   PTRATIO       B  LSTAT  MEDV  \n",
              "0     21.0  306.38  17.28  14.8  \n",
              "1     18.2  396.33   6.21  25.0  \n",
              "2     14.7  363.43   4.59  41.3  \n",
              "3     20.2  395.69  16.59  18.4  \n",
              "4     16.9  368.57   9.09  19.8  "
            ],
            "text/html": [
              "\n",
              "  <div id=\"df-b121d55b-8dce-4cec-aa55-7f84c0f8596a\">\n",
              "    <div class=\"colab-df-container\">\n",
              "      <div>\n",
              "<style scoped>\n",
              "    .dataframe tbody tr th:only-of-type {\n",
              "        vertical-align: middle;\n",
              "    }\n",
              "\n",
              "    .dataframe tbody tr th {\n",
              "        vertical-align: top;\n",
              "    }\n",
              "\n",
              "    .dataframe thead th {\n",
              "        text-align: right;\n",
              "    }\n",
              "</style>\n",
              "<table border=\"1\" class=\"dataframe\">\n",
              "  <thead>\n",
              "    <tr style=\"text-align: right;\">\n",
              "      <th></th>\n",
              "      <th>ID</th>\n",
              "      <th>CRIM</th>\n",
              "      <th>ZN</th>\n",
              "      <th>INDUS</th>\n",
              "      <th>CHAS</th>\n",
              "      <th>NOX</th>\n",
              "      <th>RM</th>\n",
              "      <th>AGE</th>\n",
              "      <th>DIS</th>\n",
              "      <th>RAD</th>\n",
              "      <th>TAX</th>\n",
              "      <th>PTRATIO</th>\n",
              "      <th>B</th>\n",
              "      <th>LSTAT</th>\n",
              "      <th>MEDV</th>\n",
              "    </tr>\n",
              "  </thead>\n",
              "  <tbody>\n",
              "    <tr>\n",
              "      <th>0</th>\n",
              "      <td>0</td>\n",
              "      <td>0.95577</td>\n",
              "      <td>0.0</td>\n",
              "      <td>8.14</td>\n",
              "      <td>0</td>\n",
              "      <td>0.538</td>\n",
              "      <td>6.047</td>\n",
              "      <td>88.8</td>\n",
              "      <td>4.4534</td>\n",
              "      <td>4</td>\n",
              "      <td>307.0</td>\n",
              "      <td>21.0</td>\n",
              "      <td>306.38</td>\n",
              "      <td>17.28</td>\n",
              "      <td>14.8</td>\n",
              "    </tr>\n",
              "    <tr>\n",
              "      <th>1</th>\n",
              "      <td>1</td>\n",
              "      <td>0.02875</td>\n",
              "      <td>28.0</td>\n",
              "      <td>15.04</td>\n",
              "      <td>0</td>\n",
              "      <td>0.464</td>\n",
              "      <td>6.211</td>\n",
              "      <td>28.9</td>\n",
              "      <td>3.6659</td>\n",
              "      <td>4</td>\n",
              "      <td>270.0</td>\n",
              "      <td>18.2</td>\n",
              "      <td>396.33</td>\n",
              "      <td>6.21</td>\n",
              "      <td>25.0</td>\n",
              "    </tr>\n",
              "    <tr>\n",
              "      <th>2</th>\n",
              "      <td>2</td>\n",
              "      <td>1.22358</td>\n",
              "      <td>0.0</td>\n",
              "      <td>19.58</td>\n",
              "      <td>0</td>\n",
              "      <td>0.605</td>\n",
              "      <td>6.943</td>\n",
              "      <td>97.4</td>\n",
              "      <td>1.8773</td>\n",
              "      <td>5</td>\n",
              "      <td>403.0</td>\n",
              "      <td>14.7</td>\n",
              "      <td>363.43</td>\n",
              "      <td>4.59</td>\n",
              "      <td>41.3</td>\n",
              "    </tr>\n",
              "    <tr>\n",
              "      <th>3</th>\n",
              "      <td>3</td>\n",
              "      <td>5.66637</td>\n",
              "      <td>0.0</td>\n",
              "      <td>18.10</td>\n",
              "      <td>0</td>\n",
              "      <td>0.740</td>\n",
              "      <td>6.219</td>\n",
              "      <td>100.0</td>\n",
              "      <td>2.0048</td>\n",
              "      <td>24</td>\n",
              "      <td>666.0</td>\n",
              "      <td>20.2</td>\n",
              "      <td>395.69</td>\n",
              "      <td>16.59</td>\n",
              "      <td>18.4</td>\n",
              "    </tr>\n",
              "    <tr>\n",
              "      <th>4</th>\n",
              "      <td>4</td>\n",
              "      <td>0.04544</td>\n",
              "      <td>0.0</td>\n",
              "      <td>3.24</td>\n",
              "      <td>0</td>\n",
              "      <td>0.460</td>\n",
              "      <td>6.144</td>\n",
              "      <td>32.2</td>\n",
              "      <td>5.8736</td>\n",
              "      <td>4</td>\n",
              "      <td>430.0</td>\n",
              "      <td>16.9</td>\n",
              "      <td>368.57</td>\n",
              "      <td>9.09</td>\n",
              "      <td>19.8</td>\n",
              "    </tr>\n",
              "  </tbody>\n",
              "</table>\n",
              "</div>\n",
              "      <button class=\"colab-df-convert\" onclick=\"convertToInteractive('df-b121d55b-8dce-4cec-aa55-7f84c0f8596a')\"\n",
              "              title=\"Convert this dataframe to an interactive table.\"\n",
              "              style=\"display:none;\">\n",
              "        \n",
              "  <svg xmlns=\"http://www.w3.org/2000/svg\" height=\"24px\"viewBox=\"0 0 24 24\"\n",
              "       width=\"24px\">\n",
              "    <path d=\"M0 0h24v24H0V0z\" fill=\"none\"/>\n",
              "    <path d=\"M18.56 5.44l.94 2.06.94-2.06 2.06-.94-2.06-.94-.94-2.06-.94 2.06-2.06.94zm-11 1L8.5 8.5l.94-2.06 2.06-.94-2.06-.94L8.5 2.5l-.94 2.06-2.06.94zm10 10l.94 2.06.94-2.06 2.06-.94-2.06-.94-.94-2.06-.94 2.06-2.06.94z\"/><path d=\"M17.41 7.96l-1.37-1.37c-.4-.4-.92-.59-1.43-.59-.52 0-1.04.2-1.43.59L10.3 9.45l-7.72 7.72c-.78.78-.78 2.05 0 2.83L4 21.41c.39.39.9.59 1.41.59.51 0 1.02-.2 1.41-.59l7.78-7.78 2.81-2.81c.8-.78.8-2.07 0-2.86zM5.41 20L4 18.59l7.72-7.72 1.47 1.35L5.41 20z\"/>\n",
              "  </svg>\n",
              "      </button>\n",
              "      \n",
              "  <style>\n",
              "    .colab-df-container {\n",
              "      display:flex;\n",
              "      flex-wrap:wrap;\n",
              "      gap: 12px;\n",
              "    }\n",
              "\n",
              "    .colab-df-convert {\n",
              "      background-color: #E8F0FE;\n",
              "      border: none;\n",
              "      border-radius: 50%;\n",
              "      cursor: pointer;\n",
              "      display: none;\n",
              "      fill: #1967D2;\n",
              "      height: 32px;\n",
              "      padding: 0 0 0 0;\n",
              "      width: 32px;\n",
              "    }\n",
              "\n",
              "    .colab-df-convert:hover {\n",
              "      background-color: #E2EBFA;\n",
              "      box-shadow: 0px 1px 2px rgba(60, 64, 67, 0.3), 0px 1px 3px 1px rgba(60, 64, 67, 0.15);\n",
              "      fill: #174EA6;\n",
              "    }\n",
              "\n",
              "    [theme=dark] .colab-df-convert {\n",
              "      background-color: #3B4455;\n",
              "      fill: #D2E3FC;\n",
              "    }\n",
              "\n",
              "    [theme=dark] .colab-df-convert:hover {\n",
              "      background-color: #434B5C;\n",
              "      box-shadow: 0px 1px 3px 1px rgba(0, 0, 0, 0.15);\n",
              "      filter: drop-shadow(0px 1px 2px rgba(0, 0, 0, 0.3));\n",
              "      fill: #FFFFFF;\n",
              "    }\n",
              "  </style>\n",
              "\n",
              "      <script>\n",
              "        const buttonEl =\n",
              "          document.querySelector('#df-b121d55b-8dce-4cec-aa55-7f84c0f8596a button.colab-df-convert');\n",
              "        buttonEl.style.display =\n",
              "          google.colab.kernel.accessAllowed ? 'block' : 'none';\n",
              "\n",
              "        async function convertToInteractive(key) {\n",
              "          const element = document.querySelector('#df-b121d55b-8dce-4cec-aa55-7f84c0f8596a');\n",
              "          const dataTable =\n",
              "            await google.colab.kernel.invokeFunction('convertToInteractive',\n",
              "                                                     [key], {});\n",
              "          if (!dataTable) return;\n",
              "\n",
              "          const docLinkHtml = 'Like what you see? Visit the ' +\n",
              "            '<a target=\"_blank\" href=https://colab.research.google.com/notebooks/data_table.ipynb>data table notebook</a>'\n",
              "            + ' to learn more about interactive tables.';\n",
              "          element.innerHTML = '';\n",
              "          dataTable['output_type'] = 'display_data';\n",
              "          await google.colab.output.renderOutput(dataTable, element);\n",
              "          const docLink = document.createElement('div');\n",
              "          docLink.innerHTML = docLinkHtml;\n",
              "          element.appendChild(docLink);\n",
              "        }\n",
              "      </script>\n",
              "    </div>\n",
              "  </div>\n",
              "  "
            ]
          },
          "metadata": {},
          "execution_count": 3
        }
      ]
    },
    {
      "cell_type": "code",
      "source": [
        "df_test_set.head(5)"
      ],
      "metadata": {
        "colab": {
          "base_uri": "https://localhost:8080/",
          "height": 270
        },
        "id": "yq76_va_No8C",
        "outputId": "1052eee2-10cf-4150-fa7a-b2a142850d06"
      },
      "execution_count": null,
      "outputs": [
        {
          "output_type": "execute_result",
          "data": {
            "text/plain": [
              "   ID      CRIM    ZN  INDUS  CHAS    NOX     RM   AGE     DIS  RAD    TAX  \\\n",
              "0   0   0.10612  30.0   4.93     0  0.428  6.095  65.1  6.3361    6  300.0   \n",
              "1   1   0.34109   0.0   7.38     0  0.493  6.415  40.1  4.7211    5  287.0   \n",
              "2   2  12.24720   0.0  18.10     0  0.584  5.837  59.7  1.9976   24  666.0   \n",
              "3   3   0.22489  12.5   7.87     0  0.524  6.377  94.3  6.3467    5  311.0   \n",
              "4   4   1.80028   0.0  19.58     0  0.605  5.877  79.2  2.4259    5  403.0   \n",
              "\n",
              "   PTRATIO       B  LSTAT  \n",
              "0     16.6  394.62  12.40  \n",
              "1     19.6  396.90   6.12  \n",
              "2     20.2   24.65  15.69  \n",
              "3     15.2  392.52  20.45  \n",
              "4     14.7  227.61  12.14  "
            ],
            "text/html": [
              "\n",
              "  <div id=\"df-395b08da-8216-441f-b535-9180342334ec\">\n",
              "    <div class=\"colab-df-container\">\n",
              "      <div>\n",
              "<style scoped>\n",
              "    .dataframe tbody tr th:only-of-type {\n",
              "        vertical-align: middle;\n",
              "    }\n",
              "\n",
              "    .dataframe tbody tr th {\n",
              "        vertical-align: top;\n",
              "    }\n",
              "\n",
              "    .dataframe thead th {\n",
              "        text-align: right;\n",
              "    }\n",
              "</style>\n",
              "<table border=\"1\" class=\"dataframe\">\n",
              "  <thead>\n",
              "    <tr style=\"text-align: right;\">\n",
              "      <th></th>\n",
              "      <th>ID</th>\n",
              "      <th>CRIM</th>\n",
              "      <th>ZN</th>\n",
              "      <th>INDUS</th>\n",
              "      <th>CHAS</th>\n",
              "      <th>NOX</th>\n",
              "      <th>RM</th>\n",
              "      <th>AGE</th>\n",
              "      <th>DIS</th>\n",
              "      <th>RAD</th>\n",
              "      <th>TAX</th>\n",
              "      <th>PTRATIO</th>\n",
              "      <th>B</th>\n",
              "      <th>LSTAT</th>\n",
              "    </tr>\n",
              "  </thead>\n",
              "  <tbody>\n",
              "    <tr>\n",
              "      <th>0</th>\n",
              "      <td>0</td>\n",
              "      <td>0.10612</td>\n",
              "      <td>30.0</td>\n",
              "      <td>4.93</td>\n",
              "      <td>0</td>\n",
              "      <td>0.428</td>\n",
              "      <td>6.095</td>\n",
              "      <td>65.1</td>\n",
              "      <td>6.3361</td>\n",
              "      <td>6</td>\n",
              "      <td>300.0</td>\n",
              "      <td>16.6</td>\n",
              "      <td>394.62</td>\n",
              "      <td>12.40</td>\n",
              "    </tr>\n",
              "    <tr>\n",
              "      <th>1</th>\n",
              "      <td>1</td>\n",
              "      <td>0.34109</td>\n",
              "      <td>0.0</td>\n",
              "      <td>7.38</td>\n",
              "      <td>0</td>\n",
              "      <td>0.493</td>\n",
              "      <td>6.415</td>\n",
              "      <td>40.1</td>\n",
              "      <td>4.7211</td>\n",
              "      <td>5</td>\n",
              "      <td>287.0</td>\n",
              "      <td>19.6</td>\n",
              "      <td>396.90</td>\n",
              "      <td>6.12</td>\n",
              "    </tr>\n",
              "    <tr>\n",
              "      <th>2</th>\n",
              "      <td>2</td>\n",
              "      <td>12.24720</td>\n",
              "      <td>0.0</td>\n",
              "      <td>18.10</td>\n",
              "      <td>0</td>\n",
              "      <td>0.584</td>\n",
              "      <td>5.837</td>\n",
              "      <td>59.7</td>\n",
              "      <td>1.9976</td>\n",
              "      <td>24</td>\n",
              "      <td>666.0</td>\n",
              "      <td>20.2</td>\n",
              "      <td>24.65</td>\n",
              "      <td>15.69</td>\n",
              "    </tr>\n",
              "    <tr>\n",
              "      <th>3</th>\n",
              "      <td>3</td>\n",
              "      <td>0.22489</td>\n",
              "      <td>12.5</td>\n",
              "      <td>7.87</td>\n",
              "      <td>0</td>\n",
              "      <td>0.524</td>\n",
              "      <td>6.377</td>\n",
              "      <td>94.3</td>\n",
              "      <td>6.3467</td>\n",
              "      <td>5</td>\n",
              "      <td>311.0</td>\n",
              "      <td>15.2</td>\n",
              "      <td>392.52</td>\n",
              "      <td>20.45</td>\n",
              "    </tr>\n",
              "    <tr>\n",
              "      <th>4</th>\n",
              "      <td>4</td>\n",
              "      <td>1.80028</td>\n",
              "      <td>0.0</td>\n",
              "      <td>19.58</td>\n",
              "      <td>0</td>\n",
              "      <td>0.605</td>\n",
              "      <td>5.877</td>\n",
              "      <td>79.2</td>\n",
              "      <td>2.4259</td>\n",
              "      <td>5</td>\n",
              "      <td>403.0</td>\n",
              "      <td>14.7</td>\n",
              "      <td>227.61</td>\n",
              "      <td>12.14</td>\n",
              "    </tr>\n",
              "  </tbody>\n",
              "</table>\n",
              "</div>\n",
              "      <button class=\"colab-df-convert\" onclick=\"convertToInteractive('df-395b08da-8216-441f-b535-9180342334ec')\"\n",
              "              title=\"Convert this dataframe to an interactive table.\"\n",
              "              style=\"display:none;\">\n",
              "        \n",
              "  <svg xmlns=\"http://www.w3.org/2000/svg\" height=\"24px\"viewBox=\"0 0 24 24\"\n",
              "       width=\"24px\">\n",
              "    <path d=\"M0 0h24v24H0V0z\" fill=\"none\"/>\n",
              "    <path d=\"M18.56 5.44l.94 2.06.94-2.06 2.06-.94-2.06-.94-.94-2.06-.94 2.06-2.06.94zm-11 1L8.5 8.5l.94-2.06 2.06-.94-2.06-.94L8.5 2.5l-.94 2.06-2.06.94zm10 10l.94 2.06.94-2.06 2.06-.94-2.06-.94-.94-2.06-.94 2.06-2.06.94z\"/><path d=\"M17.41 7.96l-1.37-1.37c-.4-.4-.92-.59-1.43-.59-.52 0-1.04.2-1.43.59L10.3 9.45l-7.72 7.72c-.78.78-.78 2.05 0 2.83L4 21.41c.39.39.9.59 1.41.59.51 0 1.02-.2 1.41-.59l7.78-7.78 2.81-2.81c.8-.78.8-2.07 0-2.86zM5.41 20L4 18.59l7.72-7.72 1.47 1.35L5.41 20z\"/>\n",
              "  </svg>\n",
              "      </button>\n",
              "      \n",
              "  <style>\n",
              "    .colab-df-container {\n",
              "      display:flex;\n",
              "      flex-wrap:wrap;\n",
              "      gap: 12px;\n",
              "    }\n",
              "\n",
              "    .colab-df-convert {\n",
              "      background-color: #E8F0FE;\n",
              "      border: none;\n",
              "      border-radius: 50%;\n",
              "      cursor: pointer;\n",
              "      display: none;\n",
              "      fill: #1967D2;\n",
              "      height: 32px;\n",
              "      padding: 0 0 0 0;\n",
              "      width: 32px;\n",
              "    }\n",
              "\n",
              "    .colab-df-convert:hover {\n",
              "      background-color: #E2EBFA;\n",
              "      box-shadow: 0px 1px 2px rgba(60, 64, 67, 0.3), 0px 1px 3px 1px rgba(60, 64, 67, 0.15);\n",
              "      fill: #174EA6;\n",
              "    }\n",
              "\n",
              "    [theme=dark] .colab-df-convert {\n",
              "      background-color: #3B4455;\n",
              "      fill: #D2E3FC;\n",
              "    }\n",
              "\n",
              "    [theme=dark] .colab-df-convert:hover {\n",
              "      background-color: #434B5C;\n",
              "      box-shadow: 0px 1px 3px 1px rgba(0, 0, 0, 0.15);\n",
              "      filter: drop-shadow(0px 1px 2px rgba(0, 0, 0, 0.3));\n",
              "      fill: #FFFFFF;\n",
              "    }\n",
              "  </style>\n",
              "\n",
              "      <script>\n",
              "        const buttonEl =\n",
              "          document.querySelector('#df-395b08da-8216-441f-b535-9180342334ec button.colab-df-convert');\n",
              "        buttonEl.style.display =\n",
              "          google.colab.kernel.accessAllowed ? 'block' : 'none';\n",
              "\n",
              "        async function convertToInteractive(key) {\n",
              "          const element = document.querySelector('#df-395b08da-8216-441f-b535-9180342334ec');\n",
              "          const dataTable =\n",
              "            await google.colab.kernel.invokeFunction('convertToInteractive',\n",
              "                                                     [key], {});\n",
              "          if (!dataTable) return;\n",
              "\n",
              "          const docLinkHtml = 'Like what you see? Visit the ' +\n",
              "            '<a target=\"_blank\" href=https://colab.research.google.com/notebooks/data_table.ipynb>data table notebook</a>'\n",
              "            + ' to learn more about interactive tables.';\n",
              "          element.innerHTML = '';\n",
              "          dataTable['output_type'] = 'display_data';\n",
              "          await google.colab.output.renderOutput(dataTable, element);\n",
              "          const docLink = document.createElement('div');\n",
              "          docLink.innerHTML = docLinkHtml;\n",
              "          element.appendChild(docLink);\n",
              "        }\n",
              "      </script>\n",
              "    </div>\n",
              "  </div>\n",
              "  "
            ]
          },
          "metadata": {},
          "execution_count": 4
        }
      ]
    },
    {
      "cell_type": "markdown",
      "source": [
        "____________________________________________________________________________________________\n",
        "# **Data Cleaning** - Train Data set\n",
        "\n",
        "> 1. Train dataset ---> df_train_set"
      ],
      "metadata": {
        "id": "H2BomrUaNyW8"
      }
    },
    {
      "cell_type": "code",
      "source": [
        "df_train_set.info()\n",
        "\n",
        "# Displays the index & column details of \"Train_set\""
      ],
      "metadata": {
        "colab": {
          "base_uri": "https://localhost:8080/"
        },
        "id": "Bxpz1po0No4e",
        "outputId": "181a8d6d-6c26-49b5-8914-38c2a5d64ca8"
      },
      "execution_count": null,
      "outputs": [
        {
          "output_type": "stream",
          "name": "stdout",
          "text": [
            "<class 'pandas.core.frame.DataFrame'>\n",
            "RangeIndex: 400 entries, 0 to 399\n",
            "Data columns (total 15 columns):\n",
            " #   Column   Non-Null Count  Dtype  \n",
            "---  ------   --------------  -----  \n",
            " 0   ID       400 non-null    int64  \n",
            " 1   CRIM     400 non-null    float64\n",
            " 2   ZN       400 non-null    float64\n",
            " 3   INDUS    400 non-null    float64\n",
            " 4   CHAS     400 non-null    int64  \n",
            " 5   NOX      400 non-null    float64\n",
            " 6   RM       400 non-null    float64\n",
            " 7   AGE      400 non-null    float64\n",
            " 8   DIS      400 non-null    float64\n",
            " 9   RAD      400 non-null    int64  \n",
            " 10  TAX      400 non-null    float64\n",
            " 11  PTRATIO  400 non-null    float64\n",
            " 12  B        400 non-null    float64\n",
            " 13  LSTAT    400 non-null    float64\n",
            " 14  MEDV     400 non-null    float64\n",
            "dtypes: float64(12), int64(3)\n",
            "memory usage: 47.0 KB\n"
          ]
        }
      ]
    },
    {
      "cell_type": "code",
      "source": [
        "df_train_set.isnull().sum()"
      ],
      "metadata": {
        "colab": {
          "base_uri": "https://localhost:8080/"
        },
        "id": "9PzNmNqmNo2M",
        "outputId": "50d0c716-3bcf-43f6-da15-024cff703ab6"
      },
      "execution_count": null,
      "outputs": [
        {
          "output_type": "execute_result",
          "data": {
            "text/plain": [
              "ID         0\n",
              "CRIM       0\n",
              "ZN         0\n",
              "INDUS      0\n",
              "CHAS       0\n",
              "NOX        0\n",
              "RM         0\n",
              "AGE        0\n",
              "DIS        0\n",
              "RAD        0\n",
              "TAX        0\n",
              "PTRATIO    0\n",
              "B          0\n",
              "LSTAT      0\n",
              "MEDV       0\n",
              "dtype: int64"
            ]
          },
          "metadata": {},
          "execution_count": 6
        }
      ]
    },
    {
      "cell_type": "code",
      "source": [
        "df_train_set.dtypes"
      ],
      "metadata": {
        "colab": {
          "base_uri": "https://localhost:8080/"
        },
        "id": "vr-K1VzxNotF",
        "outputId": "ab4a817a-0844-4759-916a-127dc48ba9c1"
      },
      "execution_count": null,
      "outputs": [
        {
          "output_type": "execute_result",
          "data": {
            "text/plain": [
              "ID           int64\n",
              "CRIM       float64\n",
              "ZN         float64\n",
              "INDUS      float64\n",
              "CHAS         int64\n",
              "NOX        float64\n",
              "RM         float64\n",
              "AGE        float64\n",
              "DIS        float64\n",
              "RAD          int64\n",
              "TAX        float64\n",
              "PTRATIO    float64\n",
              "B          float64\n",
              "LSTAT      float64\n",
              "MEDV       float64\n",
              "dtype: object"
            ]
          },
          "metadata": {},
          "execution_count": 7
        }
      ]
    },
    {
      "cell_type": "code",
      "source": [
        "len(df_train_set.ID.unique())"
      ],
      "metadata": {
        "colab": {
          "base_uri": "https://localhost:8080/"
        },
        "id": "R3C4aqPGNopt",
        "outputId": "089c71c4-b945-4837-9177-275556ca2041"
      },
      "execution_count": null,
      "outputs": [
        {
          "output_type": "execute_result",
          "data": {
            "text/plain": [
              "400"
            ]
          },
          "metadata": {},
          "execution_count": 8
        }
      ]
    },
    {
      "cell_type": "code",
      "source": [
        "df_train_set.drop(['ID'], axis = 1, inplace = True)\n",
        "df_train_set = df_train_set.drop_duplicates()"
      ],
      "metadata": {
        "id": "8ZZcYBXlNonN"
      },
      "execution_count": null,
      "outputs": []
    },
    {
      "cell_type": "code",
      "source": [
        "df_train_set.describe()"
      ],
      "metadata": {
        "colab": {
          "base_uri": "https://localhost:8080/",
          "height": 364
        },
        "id": "TkRJM5UhNoh1",
        "outputId": "38786150-93e2-4613-c09f-cab94d32636a"
      },
      "execution_count": null,
      "outputs": [
        {
          "output_type": "execute_result",
          "data": {
            "text/plain": [
              "             CRIM          ZN       INDUS        CHAS         NOX          RM  \\\n",
              "count  400.000000  400.000000  400.000000  400.000000  400.000000  400.000000   \n",
              "mean     3.757191   10.970000   10.936425    0.072500    0.552817    6.292165   \n",
              "std      9.155496   22.796261    6.848042    0.259639    0.115488    0.709923   \n",
              "min      0.009060    0.000000    0.460000    0.000000    0.385000    4.138000   \n",
              "25%      0.077820    0.000000    5.130000    0.000000    0.449000    5.877500   \n",
              "50%      0.242170    0.000000    8.560000    0.000000    0.532000    6.208500   \n",
              "75%      3.543427   12.500000   18.100000    0.000000    0.624000    6.620500   \n",
              "max     88.976200   95.000000   27.740000    1.000000    0.871000    8.780000   \n",
              "\n",
              "              AGE         DIS         RAD         TAX     PTRATIO           B  \\\n",
              "count  400.000000  400.000000  400.000000  400.000000  400.000000  400.000000   \n",
              "mean    68.086000    3.819462    9.462500  403.797500   18.459000  359.455375   \n",
              "std     28.386888    2.132445    8.687478  169.656816    2.148105   86.732906   \n",
              "min      2.900000    1.129600    1.000000  187.000000   12.600000    0.320000   \n",
              "25%     42.375000    2.109150    4.000000  277.000000   17.400000  376.115000   \n",
              "50%     76.950000    3.272100    5.000000  329.000000   18.950000  391.575000   \n",
              "75%     93.825000    5.214600   24.000000  666.000000   20.200000  396.285000   \n",
              "max    100.000000   12.126500   24.000000  711.000000   22.000000  396.900000   \n",
              "\n",
              "            LSTAT        MEDV  \n",
              "count  400.000000  400.000000  \n",
              "mean    12.668525   22.475750  \n",
              "std      7.207047    9.218611  \n",
              "min      1.920000    5.000000  \n",
              "25%      6.990000   17.100000  \n",
              "50%     10.875000   21.000000  \n",
              "75%     16.910000   25.000000  \n",
              "max     37.970000   50.000000  "
            ],
            "text/html": [
              "\n",
              "  <div id=\"df-2449df43-809f-47e1-bb48-576be4cdf8aa\">\n",
              "    <div class=\"colab-df-container\">\n",
              "      <div>\n",
              "<style scoped>\n",
              "    .dataframe tbody tr th:only-of-type {\n",
              "        vertical-align: middle;\n",
              "    }\n",
              "\n",
              "    .dataframe tbody tr th {\n",
              "        vertical-align: top;\n",
              "    }\n",
              "\n",
              "    .dataframe thead th {\n",
              "        text-align: right;\n",
              "    }\n",
              "</style>\n",
              "<table border=\"1\" class=\"dataframe\">\n",
              "  <thead>\n",
              "    <tr style=\"text-align: right;\">\n",
              "      <th></th>\n",
              "      <th>CRIM</th>\n",
              "      <th>ZN</th>\n",
              "      <th>INDUS</th>\n",
              "      <th>CHAS</th>\n",
              "      <th>NOX</th>\n",
              "      <th>RM</th>\n",
              "      <th>AGE</th>\n",
              "      <th>DIS</th>\n",
              "      <th>RAD</th>\n",
              "      <th>TAX</th>\n",
              "      <th>PTRATIO</th>\n",
              "      <th>B</th>\n",
              "      <th>LSTAT</th>\n",
              "      <th>MEDV</th>\n",
              "    </tr>\n",
              "  </thead>\n",
              "  <tbody>\n",
              "    <tr>\n",
              "      <th>count</th>\n",
              "      <td>400.000000</td>\n",
              "      <td>400.000000</td>\n",
              "      <td>400.000000</td>\n",
              "      <td>400.000000</td>\n",
              "      <td>400.000000</td>\n",
              "      <td>400.000000</td>\n",
              "      <td>400.000000</td>\n",
              "      <td>400.000000</td>\n",
              "      <td>400.000000</td>\n",
              "      <td>400.000000</td>\n",
              "      <td>400.000000</td>\n",
              "      <td>400.000000</td>\n",
              "      <td>400.000000</td>\n",
              "      <td>400.000000</td>\n",
              "    </tr>\n",
              "    <tr>\n",
              "      <th>mean</th>\n",
              "      <td>3.757191</td>\n",
              "      <td>10.970000</td>\n",
              "      <td>10.936425</td>\n",
              "      <td>0.072500</td>\n",
              "      <td>0.552817</td>\n",
              "      <td>6.292165</td>\n",
              "      <td>68.086000</td>\n",
              "      <td>3.819462</td>\n",
              "      <td>9.462500</td>\n",
              "      <td>403.797500</td>\n",
              "      <td>18.459000</td>\n",
              "      <td>359.455375</td>\n",
              "      <td>12.668525</td>\n",
              "      <td>22.475750</td>\n",
              "    </tr>\n",
              "    <tr>\n",
              "      <th>std</th>\n",
              "      <td>9.155496</td>\n",
              "      <td>22.796261</td>\n",
              "      <td>6.848042</td>\n",
              "      <td>0.259639</td>\n",
              "      <td>0.115488</td>\n",
              "      <td>0.709923</td>\n",
              "      <td>28.386888</td>\n",
              "      <td>2.132445</td>\n",
              "      <td>8.687478</td>\n",
              "      <td>169.656816</td>\n",
              "      <td>2.148105</td>\n",
              "      <td>86.732906</td>\n",
              "      <td>7.207047</td>\n",
              "      <td>9.218611</td>\n",
              "    </tr>\n",
              "    <tr>\n",
              "      <th>min</th>\n",
              "      <td>0.009060</td>\n",
              "      <td>0.000000</td>\n",
              "      <td>0.460000</td>\n",
              "      <td>0.000000</td>\n",
              "      <td>0.385000</td>\n",
              "      <td>4.138000</td>\n",
              "      <td>2.900000</td>\n",
              "      <td>1.129600</td>\n",
              "      <td>1.000000</td>\n",
              "      <td>187.000000</td>\n",
              "      <td>12.600000</td>\n",
              "      <td>0.320000</td>\n",
              "      <td>1.920000</td>\n",
              "      <td>5.000000</td>\n",
              "    </tr>\n",
              "    <tr>\n",
              "      <th>25%</th>\n",
              "      <td>0.077820</td>\n",
              "      <td>0.000000</td>\n",
              "      <td>5.130000</td>\n",
              "      <td>0.000000</td>\n",
              "      <td>0.449000</td>\n",
              "      <td>5.877500</td>\n",
              "      <td>42.375000</td>\n",
              "      <td>2.109150</td>\n",
              "      <td>4.000000</td>\n",
              "      <td>277.000000</td>\n",
              "      <td>17.400000</td>\n",
              "      <td>376.115000</td>\n",
              "      <td>6.990000</td>\n",
              "      <td>17.100000</td>\n",
              "    </tr>\n",
              "    <tr>\n",
              "      <th>50%</th>\n",
              "      <td>0.242170</td>\n",
              "      <td>0.000000</td>\n",
              "      <td>8.560000</td>\n",
              "      <td>0.000000</td>\n",
              "      <td>0.532000</td>\n",
              "      <td>6.208500</td>\n",
              "      <td>76.950000</td>\n",
              "      <td>3.272100</td>\n",
              "      <td>5.000000</td>\n",
              "      <td>329.000000</td>\n",
              "      <td>18.950000</td>\n",
              "      <td>391.575000</td>\n",
              "      <td>10.875000</td>\n",
              "      <td>21.000000</td>\n",
              "    </tr>\n",
              "    <tr>\n",
              "      <th>75%</th>\n",
              "      <td>3.543427</td>\n",
              "      <td>12.500000</td>\n",
              "      <td>18.100000</td>\n",
              "      <td>0.000000</td>\n",
              "      <td>0.624000</td>\n",
              "      <td>6.620500</td>\n",
              "      <td>93.825000</td>\n",
              "      <td>5.214600</td>\n",
              "      <td>24.000000</td>\n",
              "      <td>666.000000</td>\n",
              "      <td>20.200000</td>\n",
              "      <td>396.285000</td>\n",
              "      <td>16.910000</td>\n",
              "      <td>25.000000</td>\n",
              "    </tr>\n",
              "    <tr>\n",
              "      <th>max</th>\n",
              "      <td>88.976200</td>\n",
              "      <td>95.000000</td>\n",
              "      <td>27.740000</td>\n",
              "      <td>1.000000</td>\n",
              "      <td>0.871000</td>\n",
              "      <td>8.780000</td>\n",
              "      <td>100.000000</td>\n",
              "      <td>12.126500</td>\n",
              "      <td>24.000000</td>\n",
              "      <td>711.000000</td>\n",
              "      <td>22.000000</td>\n",
              "      <td>396.900000</td>\n",
              "      <td>37.970000</td>\n",
              "      <td>50.000000</td>\n",
              "    </tr>\n",
              "  </tbody>\n",
              "</table>\n",
              "</div>\n",
              "      <button class=\"colab-df-convert\" onclick=\"convertToInteractive('df-2449df43-809f-47e1-bb48-576be4cdf8aa')\"\n",
              "              title=\"Convert this dataframe to an interactive table.\"\n",
              "              style=\"display:none;\">\n",
              "        \n",
              "  <svg xmlns=\"http://www.w3.org/2000/svg\" height=\"24px\"viewBox=\"0 0 24 24\"\n",
              "       width=\"24px\">\n",
              "    <path d=\"M0 0h24v24H0V0z\" fill=\"none\"/>\n",
              "    <path d=\"M18.56 5.44l.94 2.06.94-2.06 2.06-.94-2.06-.94-.94-2.06-.94 2.06-2.06.94zm-11 1L8.5 8.5l.94-2.06 2.06-.94-2.06-.94L8.5 2.5l-.94 2.06-2.06.94zm10 10l.94 2.06.94-2.06 2.06-.94-2.06-.94-.94-2.06-.94 2.06-2.06.94z\"/><path d=\"M17.41 7.96l-1.37-1.37c-.4-.4-.92-.59-1.43-.59-.52 0-1.04.2-1.43.59L10.3 9.45l-7.72 7.72c-.78.78-.78 2.05 0 2.83L4 21.41c.39.39.9.59 1.41.59.51 0 1.02-.2 1.41-.59l7.78-7.78 2.81-2.81c.8-.78.8-2.07 0-2.86zM5.41 20L4 18.59l7.72-7.72 1.47 1.35L5.41 20z\"/>\n",
              "  </svg>\n",
              "      </button>\n",
              "      \n",
              "  <style>\n",
              "    .colab-df-container {\n",
              "      display:flex;\n",
              "      flex-wrap:wrap;\n",
              "      gap: 12px;\n",
              "    }\n",
              "\n",
              "    .colab-df-convert {\n",
              "      background-color: #E8F0FE;\n",
              "      border: none;\n",
              "      border-radius: 50%;\n",
              "      cursor: pointer;\n",
              "      display: none;\n",
              "      fill: #1967D2;\n",
              "      height: 32px;\n",
              "      padding: 0 0 0 0;\n",
              "      width: 32px;\n",
              "    }\n",
              "\n",
              "    .colab-df-convert:hover {\n",
              "      background-color: #E2EBFA;\n",
              "      box-shadow: 0px 1px 2px rgba(60, 64, 67, 0.3), 0px 1px 3px 1px rgba(60, 64, 67, 0.15);\n",
              "      fill: #174EA6;\n",
              "    }\n",
              "\n",
              "    [theme=dark] .colab-df-convert {\n",
              "      background-color: #3B4455;\n",
              "      fill: #D2E3FC;\n",
              "    }\n",
              "\n",
              "    [theme=dark] .colab-df-convert:hover {\n",
              "      background-color: #434B5C;\n",
              "      box-shadow: 0px 1px 3px 1px rgba(0, 0, 0, 0.15);\n",
              "      filter: drop-shadow(0px 1px 2px rgba(0, 0, 0, 0.3));\n",
              "      fill: #FFFFFF;\n",
              "    }\n",
              "  </style>\n",
              "\n",
              "      <script>\n",
              "        const buttonEl =\n",
              "          document.querySelector('#df-2449df43-809f-47e1-bb48-576be4cdf8aa button.colab-df-convert');\n",
              "        buttonEl.style.display =\n",
              "          google.colab.kernel.accessAllowed ? 'block' : 'none';\n",
              "\n",
              "        async function convertToInteractive(key) {\n",
              "          const element = document.querySelector('#df-2449df43-809f-47e1-bb48-576be4cdf8aa');\n",
              "          const dataTable =\n",
              "            await google.colab.kernel.invokeFunction('convertToInteractive',\n",
              "                                                     [key], {});\n",
              "          if (!dataTable) return;\n",
              "\n",
              "          const docLinkHtml = 'Like what you see? Visit the ' +\n",
              "            '<a target=\"_blank\" href=https://colab.research.google.com/notebooks/data_table.ipynb>data table notebook</a>'\n",
              "            + ' to learn more about interactive tables.';\n",
              "          element.innerHTML = '';\n",
              "          dataTable['output_type'] = 'display_data';\n",
              "          await google.colab.output.renderOutput(dataTable, element);\n",
              "          const docLink = document.createElement('div');\n",
              "          docLink.innerHTML = docLinkHtml;\n",
              "          element.appendChild(docLink);\n",
              "        }\n",
              "      </script>\n",
              "    </div>\n",
              "  </div>\n",
              "  "
            ]
          },
          "metadata": {},
          "execution_count": 10
        }
      ]
    },
    {
      "cell_type": "markdown",
      "source": [
        "#-------------------------------------------------------------------------------------------\n",
        "### **CRIM** - Column of Train_set"
      ],
      "metadata": {
        "id": "xC2NaWk_my09"
      }
    },
    {
      "cell_type": "code",
      "source": [
        "q2 = df_train_set.CRIM.quantile(0.75)\n",
        "q1 = df_train_set.CRIM.quantile(0.25)\n",
        "iqr = q2 - q1\n",
        "upper = q2 + (1.5*iqr)\n",
        "lower = q1 - (1.5*iqr)\n",
        "lower, upper\n",
        "\n",
        "# finding (lower limit , upper limit) of CRIM column --from--> df_train_set"
      ],
      "metadata": {
        "colab": {
          "base_uri": "https://localhost:8080/"
        },
        "id": "orQMIFLuQHzH",
        "outputId": "404754aa-4e4f-46ad-939d-8444aec92d9e"
      },
      "execution_count": null,
      "outputs": [
        {
          "output_type": "execute_result",
          "data": {
            "text/plain": [
              "(-5.1205912499999995, 8.74183875)"
            ]
          },
          "metadata": {},
          "execution_count": 11
        }
      ]
    },
    {
      "cell_type": "code",
      "source": [
        "df_train_set.CRIM = df_train_set.CRIM.clip(-5.12, 8.74)\n",
        "\n",
        "# storing lower & upper limit of CRIM value inside \"df_train_set.CRIM\""
      ],
      "metadata": {
        "id": "c6S55YRLQHrD"
      },
      "execution_count": null,
      "outputs": []
    },
    {
      "cell_type": "markdown",
      "source": [
        "#-------------------------------------------------------------------------------------------\n",
        "### **ZN** - Column of Train_set"
      ],
      "metadata": {
        "id": "TkUlEyb0nAmX"
      }
    },
    {
      "cell_type": "code",
      "source": [
        "q2 = df_train_set.ZN.quantile(0.75)\n",
        "q1 = df_train_set.ZN.quantile(0.25)\n",
        "iqr = q2 - q1\n",
        "upper = q2 + (1.5*iqr)\n",
        "lower = q1 - (1.5*iqr)\n",
        "lower, upper\n",
        "\n",
        "# finding (lower limit , upper limit) of ZN column --from--> df_train_set"
      ],
      "metadata": {
        "colab": {
          "base_uri": "https://localhost:8080/"
        },
        "id": "FKHh0JnbQHnj",
        "outputId": "c7e19faa-872a-4772-cbc1-0cfb5fc97505"
      },
      "execution_count": null,
      "outputs": [
        {
          "output_type": "execute_result",
          "data": {
            "text/plain": [
              "(-18.75, 31.25)"
            ]
          },
          "metadata": {},
          "execution_count": 13
        }
      ]
    },
    {
      "cell_type": "code",
      "source": [
        "df_train_set.ZN = df_train_set.ZN.clip(-18.75, 31.25)\n",
        "\n",
        "# storing lower & upper limit of ZN value inside \"df_train_set.ZN\""
      ],
      "metadata": {
        "id": "cjjGGsS4QHkR"
      },
      "execution_count": null,
      "outputs": []
    },
    {
      "cell_type": "markdown",
      "source": [
        "#-------------------------------------------------------------------------------------------\n",
        "### **INDUS** - Column of Train_set"
      ],
      "metadata": {
        "id": "Pm60y9cwnKkW"
      }
    },
    {
      "cell_type": "code",
      "source": [
        "q2 = df_train_set.INDUS.quantile(0.75)\n",
        "q1 = df_train_set.INDUS.quantile(0.25)\n",
        "iqr = q2 - q1\n",
        "upper = q2 + (1.5*iqr)\n",
        "lower = q1 - (1.5*iqr)\n",
        "lower, upper\n",
        "\n",
        "# finding (lower limit , upper limit) of INDUS column --from--> df_train_set"
      ],
      "metadata": {
        "colab": {
          "base_uri": "https://localhost:8080/"
        },
        "id": "_zLwTOEYQHhR",
        "outputId": "a2165e52-ce10-44b0-87e6-4d49e3c39e82"
      },
      "execution_count": null,
      "outputs": [
        {
          "output_type": "execute_result",
          "data": {
            "text/plain": [
              "(-14.325000000000006, 37.55500000000001)"
            ]
          },
          "metadata": {},
          "execution_count": 15
        }
      ]
    },
    {
      "cell_type": "code",
      "source": [
        "df_train_set.INDUS = df_train_set.INDUS.clip(-14.32, 37.55)\n",
        "\n",
        "# storing lower & upper limit of INDUS value inside \"df_train_set.INDUS\""
      ],
      "metadata": {
        "id": "uGF7gZOTnjSG"
      },
      "execution_count": null,
      "outputs": []
    },
    {
      "cell_type": "markdown",
      "source": [
        "#-------------------------------------------------------------------------------------------\n",
        "### **LSTAT** - Column of Train_set"
      ],
      "metadata": {
        "id": "oM_Y0bJEnPRv"
      }
    },
    {
      "cell_type": "code",
      "source": [
        "q2 = df_train_set.LSTAT.quantile(0.75)\n",
        "q1 = df_train_set.LSTAT.quantile(0.25)\n",
        "iqr = q2 - q1\n",
        "upper = q2 + (1.5*iqr)\n",
        "lower = q1 - (1.5*iqr)\n",
        "lower, upper\n",
        "\n",
        "# finding (lower limit , upper limit) of LSTAT column --from--> df_train_set"
      ],
      "metadata": {
        "colab": {
          "base_uri": "https://localhost:8080/"
        },
        "id": "l3CT4USrQHUJ",
        "outputId": "25dafafe-7276-4916-f757-eeb864b5e9cc"
      },
      "execution_count": null,
      "outputs": [
        {
          "output_type": "execute_result",
          "data": {
            "text/plain": [
              "(-7.889999999999999, 31.79)"
            ]
          },
          "metadata": {},
          "execution_count": 17
        }
      ]
    },
    {
      "cell_type": "code",
      "source": [
        "df_train_set.LSTAT = df_train_set.LSTAT.clip(-7.89, 31.79)\n",
        "\n",
        "# storing lower & upper limit of LSTAT value inside \"df_train_set.LSTAT\""
      ],
      "metadata": {
        "id": "IdUJc2WdQHQm"
      },
      "execution_count": null,
      "outputs": []
    },
    {
      "cell_type": "markdown",
      "source": [
        "#-------------------------------------------------------------------------------------------\n",
        "### **MEDV** - Column of Train_set"
      ],
      "metadata": {
        "id": "Ay_DMCqinTq-"
      }
    },
    {
      "cell_type": "code",
      "source": [
        "q2 = df_train_set.MEDV.quantile(0.75)\n",
        "q1 = df_train_set.MEDV.quantile(0.25)\n",
        "iqr = q2 - q1\n",
        "upper = q2 + (1.5*iqr)\n",
        "lower = q1 - (1.5*iqr)\n",
        "lower, upper\n",
        "\n",
        "# finding (lower limit , upper limit) of MEDV column --from--> df_train_set"
      ],
      "metadata": {
        "colab": {
          "base_uri": "https://localhost:8080/"
        },
        "id": "OGGsRAwxRznR",
        "outputId": "b3865e35-0a9e-4cc5-8e9e-749b8535e338"
      },
      "execution_count": null,
      "outputs": [
        {
          "output_type": "execute_result",
          "data": {
            "text/plain": [
              "(5.2500000000000036, 36.849999999999994)"
            ]
          },
          "metadata": {},
          "execution_count": 19
        }
      ]
    },
    {
      "cell_type": "code",
      "source": [
        "df_train_set.MEDV = df_train_set.MEDV.clip(5.25, 36.85)\n",
        "\n",
        "# storing lower & upper limit of MEDV value inside \"df_train_set.MEDV\""
      ],
      "metadata": {
        "id": "v8J9h9LARzZ6"
      },
      "execution_count": null,
      "outputs": []
    },
    {
      "cell_type": "code",
      "source": [
        "df_train_set.describe()"
      ],
      "metadata": {
        "colab": {
          "base_uri": "https://localhost:8080/",
          "height": 364
        },
        "id": "ig0r8PCNRzNt",
        "outputId": "9c608d00-95f8-4d1d-ea87-63f7dd52f523"
      },
      "execution_count": null,
      "outputs": [
        {
          "output_type": "execute_result",
          "data": {
            "text/plain": [
              "             CRIM          ZN       INDUS        CHAS         NOX          RM  \\\n",
              "count  400.000000  400.000000  400.000000  400.000000  400.000000  400.000000   \n",
              "mean     2.169648    6.820000   10.936425    0.072500    0.552817    6.292165   \n",
              "std      3.224392   11.918719    6.848042    0.259639    0.115488    0.709923   \n",
              "min      0.009060    0.000000    0.460000    0.000000    0.385000    4.138000   \n",
              "25%      0.077820    0.000000    5.130000    0.000000    0.449000    5.877500   \n",
              "50%      0.242170    0.000000    8.560000    0.000000    0.532000    6.208500   \n",
              "75%      3.543427   12.500000   18.100000    0.000000    0.624000    6.620500   \n",
              "max      8.740000   31.250000   27.740000    1.000000    0.871000    8.780000   \n",
              "\n",
              "              AGE         DIS         RAD         TAX     PTRATIO           B  \\\n",
              "count  400.000000  400.000000  400.000000  400.000000  400.000000  400.000000   \n",
              "mean    68.086000    3.819462    9.462500  403.797500   18.459000  359.455375   \n",
              "std     28.386888    2.132445    8.687478  169.656816    2.148105   86.732906   \n",
              "min      2.900000    1.129600    1.000000  187.000000   12.600000    0.320000   \n",
              "25%     42.375000    2.109150    4.000000  277.000000   17.400000  376.115000   \n",
              "50%     76.950000    3.272100    5.000000  329.000000   18.950000  391.575000   \n",
              "75%     93.825000    5.214600   24.000000  666.000000   20.200000  396.285000   \n",
              "max    100.000000   12.126500   24.000000  711.000000   22.000000  396.900000   \n",
              "\n",
              "           LSTAT        MEDV  \n",
              "count  400.00000  400.000000  \n",
              "mean    12.62655   21.796000  \n",
              "std      7.08280    7.560084  \n",
              "min      1.92000    5.250000  \n",
              "25%      6.99000   17.100000  \n",
              "50%     10.87500   21.000000  \n",
              "75%     16.91000   25.000000  \n",
              "max     31.79000   36.850000  "
            ],
            "text/html": [
              "\n",
              "  <div id=\"df-00fd39fc-2086-4c78-a620-66fd36528515\">\n",
              "    <div class=\"colab-df-container\">\n",
              "      <div>\n",
              "<style scoped>\n",
              "    .dataframe tbody tr th:only-of-type {\n",
              "        vertical-align: middle;\n",
              "    }\n",
              "\n",
              "    .dataframe tbody tr th {\n",
              "        vertical-align: top;\n",
              "    }\n",
              "\n",
              "    .dataframe thead th {\n",
              "        text-align: right;\n",
              "    }\n",
              "</style>\n",
              "<table border=\"1\" class=\"dataframe\">\n",
              "  <thead>\n",
              "    <tr style=\"text-align: right;\">\n",
              "      <th></th>\n",
              "      <th>CRIM</th>\n",
              "      <th>ZN</th>\n",
              "      <th>INDUS</th>\n",
              "      <th>CHAS</th>\n",
              "      <th>NOX</th>\n",
              "      <th>RM</th>\n",
              "      <th>AGE</th>\n",
              "      <th>DIS</th>\n",
              "      <th>RAD</th>\n",
              "      <th>TAX</th>\n",
              "      <th>PTRATIO</th>\n",
              "      <th>B</th>\n",
              "      <th>LSTAT</th>\n",
              "      <th>MEDV</th>\n",
              "    </tr>\n",
              "  </thead>\n",
              "  <tbody>\n",
              "    <tr>\n",
              "      <th>count</th>\n",
              "      <td>400.000000</td>\n",
              "      <td>400.000000</td>\n",
              "      <td>400.000000</td>\n",
              "      <td>400.000000</td>\n",
              "      <td>400.000000</td>\n",
              "      <td>400.000000</td>\n",
              "      <td>400.000000</td>\n",
              "      <td>400.000000</td>\n",
              "      <td>400.000000</td>\n",
              "      <td>400.000000</td>\n",
              "      <td>400.000000</td>\n",
              "      <td>400.000000</td>\n",
              "      <td>400.00000</td>\n",
              "      <td>400.000000</td>\n",
              "    </tr>\n",
              "    <tr>\n",
              "      <th>mean</th>\n",
              "      <td>2.169648</td>\n",
              "      <td>6.820000</td>\n",
              "      <td>10.936425</td>\n",
              "      <td>0.072500</td>\n",
              "      <td>0.552817</td>\n",
              "      <td>6.292165</td>\n",
              "      <td>68.086000</td>\n",
              "      <td>3.819462</td>\n",
              "      <td>9.462500</td>\n",
              "      <td>403.797500</td>\n",
              "      <td>18.459000</td>\n",
              "      <td>359.455375</td>\n",
              "      <td>12.62655</td>\n",
              "      <td>21.796000</td>\n",
              "    </tr>\n",
              "    <tr>\n",
              "      <th>std</th>\n",
              "      <td>3.224392</td>\n",
              "      <td>11.918719</td>\n",
              "      <td>6.848042</td>\n",
              "      <td>0.259639</td>\n",
              "      <td>0.115488</td>\n",
              "      <td>0.709923</td>\n",
              "      <td>28.386888</td>\n",
              "      <td>2.132445</td>\n",
              "      <td>8.687478</td>\n",
              "      <td>169.656816</td>\n",
              "      <td>2.148105</td>\n",
              "      <td>86.732906</td>\n",
              "      <td>7.08280</td>\n",
              "      <td>7.560084</td>\n",
              "    </tr>\n",
              "    <tr>\n",
              "      <th>min</th>\n",
              "      <td>0.009060</td>\n",
              "      <td>0.000000</td>\n",
              "      <td>0.460000</td>\n",
              "      <td>0.000000</td>\n",
              "      <td>0.385000</td>\n",
              "      <td>4.138000</td>\n",
              "      <td>2.900000</td>\n",
              "      <td>1.129600</td>\n",
              "      <td>1.000000</td>\n",
              "      <td>187.000000</td>\n",
              "      <td>12.600000</td>\n",
              "      <td>0.320000</td>\n",
              "      <td>1.92000</td>\n",
              "      <td>5.250000</td>\n",
              "    </tr>\n",
              "    <tr>\n",
              "      <th>25%</th>\n",
              "      <td>0.077820</td>\n",
              "      <td>0.000000</td>\n",
              "      <td>5.130000</td>\n",
              "      <td>0.000000</td>\n",
              "      <td>0.449000</td>\n",
              "      <td>5.877500</td>\n",
              "      <td>42.375000</td>\n",
              "      <td>2.109150</td>\n",
              "      <td>4.000000</td>\n",
              "      <td>277.000000</td>\n",
              "      <td>17.400000</td>\n",
              "      <td>376.115000</td>\n",
              "      <td>6.99000</td>\n",
              "      <td>17.100000</td>\n",
              "    </tr>\n",
              "    <tr>\n",
              "      <th>50%</th>\n",
              "      <td>0.242170</td>\n",
              "      <td>0.000000</td>\n",
              "      <td>8.560000</td>\n",
              "      <td>0.000000</td>\n",
              "      <td>0.532000</td>\n",
              "      <td>6.208500</td>\n",
              "      <td>76.950000</td>\n",
              "      <td>3.272100</td>\n",
              "      <td>5.000000</td>\n",
              "      <td>329.000000</td>\n",
              "      <td>18.950000</td>\n",
              "      <td>391.575000</td>\n",
              "      <td>10.87500</td>\n",
              "      <td>21.000000</td>\n",
              "    </tr>\n",
              "    <tr>\n",
              "      <th>75%</th>\n",
              "      <td>3.543427</td>\n",
              "      <td>12.500000</td>\n",
              "      <td>18.100000</td>\n",
              "      <td>0.000000</td>\n",
              "      <td>0.624000</td>\n",
              "      <td>6.620500</td>\n",
              "      <td>93.825000</td>\n",
              "      <td>5.214600</td>\n",
              "      <td>24.000000</td>\n",
              "      <td>666.000000</td>\n",
              "      <td>20.200000</td>\n",
              "      <td>396.285000</td>\n",
              "      <td>16.91000</td>\n",
              "      <td>25.000000</td>\n",
              "    </tr>\n",
              "    <tr>\n",
              "      <th>max</th>\n",
              "      <td>8.740000</td>\n",
              "      <td>31.250000</td>\n",
              "      <td>27.740000</td>\n",
              "      <td>1.000000</td>\n",
              "      <td>0.871000</td>\n",
              "      <td>8.780000</td>\n",
              "      <td>100.000000</td>\n",
              "      <td>12.126500</td>\n",
              "      <td>24.000000</td>\n",
              "      <td>711.000000</td>\n",
              "      <td>22.000000</td>\n",
              "      <td>396.900000</td>\n",
              "      <td>31.79000</td>\n",
              "      <td>36.850000</td>\n",
              "    </tr>\n",
              "  </tbody>\n",
              "</table>\n",
              "</div>\n",
              "      <button class=\"colab-df-convert\" onclick=\"convertToInteractive('df-00fd39fc-2086-4c78-a620-66fd36528515')\"\n",
              "              title=\"Convert this dataframe to an interactive table.\"\n",
              "              style=\"display:none;\">\n",
              "        \n",
              "  <svg xmlns=\"http://www.w3.org/2000/svg\" height=\"24px\"viewBox=\"0 0 24 24\"\n",
              "       width=\"24px\">\n",
              "    <path d=\"M0 0h24v24H0V0z\" fill=\"none\"/>\n",
              "    <path d=\"M18.56 5.44l.94 2.06.94-2.06 2.06-.94-2.06-.94-.94-2.06-.94 2.06-2.06.94zm-11 1L8.5 8.5l.94-2.06 2.06-.94-2.06-.94L8.5 2.5l-.94 2.06-2.06.94zm10 10l.94 2.06.94-2.06 2.06-.94-2.06-.94-.94-2.06-.94 2.06-2.06.94z\"/><path d=\"M17.41 7.96l-1.37-1.37c-.4-.4-.92-.59-1.43-.59-.52 0-1.04.2-1.43.59L10.3 9.45l-7.72 7.72c-.78.78-.78 2.05 0 2.83L4 21.41c.39.39.9.59 1.41.59.51 0 1.02-.2 1.41-.59l7.78-7.78 2.81-2.81c.8-.78.8-2.07 0-2.86zM5.41 20L4 18.59l7.72-7.72 1.47 1.35L5.41 20z\"/>\n",
              "  </svg>\n",
              "      </button>\n",
              "      \n",
              "  <style>\n",
              "    .colab-df-container {\n",
              "      display:flex;\n",
              "      flex-wrap:wrap;\n",
              "      gap: 12px;\n",
              "    }\n",
              "\n",
              "    .colab-df-convert {\n",
              "      background-color: #E8F0FE;\n",
              "      border: none;\n",
              "      border-radius: 50%;\n",
              "      cursor: pointer;\n",
              "      display: none;\n",
              "      fill: #1967D2;\n",
              "      height: 32px;\n",
              "      padding: 0 0 0 0;\n",
              "      width: 32px;\n",
              "    }\n",
              "\n",
              "    .colab-df-convert:hover {\n",
              "      background-color: #E2EBFA;\n",
              "      box-shadow: 0px 1px 2px rgba(60, 64, 67, 0.3), 0px 1px 3px 1px rgba(60, 64, 67, 0.15);\n",
              "      fill: #174EA6;\n",
              "    }\n",
              "\n",
              "    [theme=dark] .colab-df-convert {\n",
              "      background-color: #3B4455;\n",
              "      fill: #D2E3FC;\n",
              "    }\n",
              "\n",
              "    [theme=dark] .colab-df-convert:hover {\n",
              "      background-color: #434B5C;\n",
              "      box-shadow: 0px 1px 3px 1px rgba(0, 0, 0, 0.15);\n",
              "      filter: drop-shadow(0px 1px 2px rgba(0, 0, 0, 0.3));\n",
              "      fill: #FFFFFF;\n",
              "    }\n",
              "  </style>\n",
              "\n",
              "      <script>\n",
              "        const buttonEl =\n",
              "          document.querySelector('#df-00fd39fc-2086-4c78-a620-66fd36528515 button.colab-df-convert');\n",
              "        buttonEl.style.display =\n",
              "          google.colab.kernel.accessAllowed ? 'block' : 'none';\n",
              "\n",
              "        async function convertToInteractive(key) {\n",
              "          const element = document.querySelector('#df-00fd39fc-2086-4c78-a620-66fd36528515');\n",
              "          const dataTable =\n",
              "            await google.colab.kernel.invokeFunction('convertToInteractive',\n",
              "                                                     [key], {});\n",
              "          if (!dataTable) return;\n",
              "\n",
              "          const docLinkHtml = 'Like what you see? Visit the ' +\n",
              "            '<a target=\"_blank\" href=https://colab.research.google.com/notebooks/data_table.ipynb>data table notebook</a>'\n",
              "            + ' to learn more about interactive tables.';\n",
              "          element.innerHTML = '';\n",
              "          dataTable['output_type'] = 'display_data';\n",
              "          await google.colab.output.renderOutput(dataTable, element);\n",
              "          const docLink = document.createElement('div');\n",
              "          docLink.innerHTML = docLinkHtml;\n",
              "          element.appendChild(docLink);\n",
              "        }\n",
              "      </script>\n",
              "    </div>\n",
              "  </div>\n",
              "  "
            ]
          },
          "metadata": {},
          "execution_count": 21
        }
      ]
    },
    {
      "cell_type": "markdown",
      "source": [
        "___________________________________________________________________________________\n",
        "\n",
        "# **Data Cleaning - Test data set**\n",
        "\n",
        "> 2. Test dataset --@--> df_test_set"
      ],
      "metadata": {
        "id": "av4wDm6FSU9i"
      }
    },
    {
      "cell_type": "code",
      "source": [
        "df_test_set.info()"
      ],
      "metadata": {
        "colab": {
          "base_uri": "https://localhost:8080/"
        },
        "id": "-GAR_xMoRy_3",
        "outputId": "8fa3d326-d1b4-4557-b75b-6354e2037bf2"
      },
      "execution_count": null,
      "outputs": [
        {
          "output_type": "stream",
          "name": "stdout",
          "text": [
            "<class 'pandas.core.frame.DataFrame'>\n",
            "RangeIndex: 105 entries, 0 to 104\n",
            "Data columns (total 14 columns):\n",
            " #   Column   Non-Null Count  Dtype  \n",
            "---  ------   --------------  -----  \n",
            " 0   ID       105 non-null    int64  \n",
            " 1   CRIM     105 non-null    float64\n",
            " 2   ZN       105 non-null    float64\n",
            " 3   INDUS    105 non-null    float64\n",
            " 4   CHAS     105 non-null    int64  \n",
            " 5   NOX      105 non-null    float64\n",
            " 6   RM       105 non-null    float64\n",
            " 7   AGE      105 non-null    float64\n",
            " 8   DIS      105 non-null    float64\n",
            " 9   RAD      105 non-null    int64  \n",
            " 10  TAX      105 non-null    float64\n",
            " 11  PTRATIO  105 non-null    float64\n",
            " 12  B        105 non-null    float64\n",
            " 13  LSTAT    105 non-null    float64\n",
            "dtypes: float64(11), int64(3)\n",
            "memory usage: 11.6 KB\n"
          ]
        }
      ]
    },
    {
      "cell_type": "code",
      "source": [
        "df_test_set.isnull().sum()"
      ],
      "metadata": {
        "colab": {
          "base_uri": "https://localhost:8080/"
        },
        "id": "2PYpchmaS-7D",
        "outputId": "b337b469-7b0b-4bf8-a893-c2a568861247"
      },
      "execution_count": null,
      "outputs": [
        {
          "output_type": "execute_result",
          "data": {
            "text/plain": [
              "ID         0\n",
              "CRIM       0\n",
              "ZN         0\n",
              "INDUS      0\n",
              "CHAS       0\n",
              "NOX        0\n",
              "RM         0\n",
              "AGE        0\n",
              "DIS        0\n",
              "RAD        0\n",
              "TAX        0\n",
              "PTRATIO    0\n",
              "B          0\n",
              "LSTAT      0\n",
              "dtype: int64"
            ]
          },
          "metadata": {},
          "execution_count": 23
        }
      ]
    },
    {
      "cell_type": "code",
      "source": [
        "df_test_set.dtypes"
      ],
      "metadata": {
        "colab": {
          "base_uri": "https://localhost:8080/"
        },
        "id": "M3DDN3doTVn4",
        "outputId": "8c537f3c-80ed-481e-b873-b3d7dfc789e6"
      },
      "execution_count": null,
      "outputs": [
        {
          "output_type": "execute_result",
          "data": {
            "text/plain": [
              "ID           int64\n",
              "CRIM       float64\n",
              "ZN         float64\n",
              "INDUS      float64\n",
              "CHAS         int64\n",
              "NOX        float64\n",
              "RM         float64\n",
              "AGE        float64\n",
              "DIS        float64\n",
              "RAD          int64\n",
              "TAX        float64\n",
              "PTRATIO    float64\n",
              "B          float64\n",
              "LSTAT      float64\n",
              "dtype: object"
            ]
          },
          "metadata": {},
          "execution_count": 24
        }
      ]
    },
    {
      "cell_type": "code",
      "source": [
        "len(df_test_set.ID.unique())"
      ],
      "metadata": {
        "colab": {
          "base_uri": "https://localhost:8080/"
        },
        "id": "ol6aDQrdS-3j",
        "outputId": "46be2d2c-1610-4bbd-ad20-a08530614465"
      },
      "execution_count": null,
      "outputs": [
        {
          "output_type": "execute_result",
          "data": {
            "text/plain": [
              "105"
            ]
          },
          "metadata": {},
          "execution_count": 25
        }
      ]
    },
    {
      "cell_type": "code",
      "source": [
        "df_test_set.drop(['ID'], axis = 1, inplace = True)\n",
        "df_test_set = df_test_set.drop_duplicates()\n",
        "\n",
        "# dropping duplicates items from df_test_set"
      ],
      "metadata": {
        "id": "sH2fJt8NS-1I"
      },
      "execution_count": null,
      "outputs": []
    },
    {
      "cell_type": "code",
      "source": [
        "df_test_set.describe()"
      ],
      "metadata": {
        "colab": {
          "base_uri": "https://localhost:8080/",
          "height": 364
        },
        "id": "4dBdBww1S-ym",
        "outputId": "e339bbf5-8c93-4e63-fae7-b4d5dda9d173"
      },
      "execution_count": null,
      "outputs": [
        {
          "output_type": "execute_result",
          "data": {
            "text/plain": [
              "             CRIM          ZN       INDUS        CHAS         NOX          RM  \\\n",
              "count  105.000000  105.000000  105.000000  105.000000  105.000000  105.000000   \n",
              "mean     3.100574   12.800000   11.984095    0.057143    0.562010    6.253181   \n",
              "std      6.099267   25.384978    6.854823    0.233229    0.118159    0.679369   \n",
              "min      0.013600    0.000000    1.320000    0.000000    0.392000    3.561000   \n",
              "25%      0.100840    0.000000    6.090000    0.000000    0.449000    5.949000   \n",
              "50%      0.290900    0.000000    9.900000    0.000000    0.544000    6.195000   \n",
              "75%      4.261310   12.500000   18.100000    0.000000    0.624000    6.631000   \n",
              "max     45.746100  100.000000   27.740000    1.000000    0.871000    7.929000   \n",
              "\n",
              "              AGE         DIS         RAD         TAX     PTRATIO           B  \\\n",
              "count  105.000000  105.000000  105.000000  105.000000  105.000000  105.000000   \n",
              "mean    70.469524    3.699209    9.961905  426.219048   18.472381  345.695333   \n",
              "std     27.410123    2.017964    8.814241  164.240090    2.227041  106.976156   \n",
              "min      6.800000    1.285200    1.000000  188.000000   12.600000    3.650000   \n",
              "25%     47.200000    2.063500    4.000000  300.000000   16.600000  373.660000   \n",
              "50%     78.100000    2.783100    5.000000  391.000000   19.100000  390.740000   \n",
              "75%     94.500000    5.116700   24.000000  666.000000   20.200000  395.620000   \n",
              "max    100.000000    9.220300   24.000000  711.000000   21.200000  396.900000   \n",
              "\n",
              "            LSTAT  \n",
              "count  105.000000  \n",
              "mean    12.667238  \n",
              "std      6.912011  \n",
              "min      1.730000  \n",
              "25%      7.120000  \n",
              "50%     12.260000  \n",
              "75%     17.160000  \n",
              "max     36.980000  "
            ],
            "text/html": [
              "\n",
              "  <div id=\"df-29fe2772-a6b8-4ce3-a709-b6ee3425f9da\">\n",
              "    <div class=\"colab-df-container\">\n",
              "      <div>\n",
              "<style scoped>\n",
              "    .dataframe tbody tr th:only-of-type {\n",
              "        vertical-align: middle;\n",
              "    }\n",
              "\n",
              "    .dataframe tbody tr th {\n",
              "        vertical-align: top;\n",
              "    }\n",
              "\n",
              "    .dataframe thead th {\n",
              "        text-align: right;\n",
              "    }\n",
              "</style>\n",
              "<table border=\"1\" class=\"dataframe\">\n",
              "  <thead>\n",
              "    <tr style=\"text-align: right;\">\n",
              "      <th></th>\n",
              "      <th>CRIM</th>\n",
              "      <th>ZN</th>\n",
              "      <th>INDUS</th>\n",
              "      <th>CHAS</th>\n",
              "      <th>NOX</th>\n",
              "      <th>RM</th>\n",
              "      <th>AGE</th>\n",
              "      <th>DIS</th>\n",
              "      <th>RAD</th>\n",
              "      <th>TAX</th>\n",
              "      <th>PTRATIO</th>\n",
              "      <th>B</th>\n",
              "      <th>LSTAT</th>\n",
              "    </tr>\n",
              "  </thead>\n",
              "  <tbody>\n",
              "    <tr>\n",
              "      <th>count</th>\n",
              "      <td>105.000000</td>\n",
              "      <td>105.000000</td>\n",
              "      <td>105.000000</td>\n",
              "      <td>105.000000</td>\n",
              "      <td>105.000000</td>\n",
              "      <td>105.000000</td>\n",
              "      <td>105.000000</td>\n",
              "      <td>105.000000</td>\n",
              "      <td>105.000000</td>\n",
              "      <td>105.000000</td>\n",
              "      <td>105.000000</td>\n",
              "      <td>105.000000</td>\n",
              "      <td>105.000000</td>\n",
              "    </tr>\n",
              "    <tr>\n",
              "      <th>mean</th>\n",
              "      <td>3.100574</td>\n",
              "      <td>12.800000</td>\n",
              "      <td>11.984095</td>\n",
              "      <td>0.057143</td>\n",
              "      <td>0.562010</td>\n",
              "      <td>6.253181</td>\n",
              "      <td>70.469524</td>\n",
              "      <td>3.699209</td>\n",
              "      <td>9.961905</td>\n",
              "      <td>426.219048</td>\n",
              "      <td>18.472381</td>\n",
              "      <td>345.695333</td>\n",
              "      <td>12.667238</td>\n",
              "    </tr>\n",
              "    <tr>\n",
              "      <th>std</th>\n",
              "      <td>6.099267</td>\n",
              "      <td>25.384978</td>\n",
              "      <td>6.854823</td>\n",
              "      <td>0.233229</td>\n",
              "      <td>0.118159</td>\n",
              "      <td>0.679369</td>\n",
              "      <td>27.410123</td>\n",
              "      <td>2.017964</td>\n",
              "      <td>8.814241</td>\n",
              "      <td>164.240090</td>\n",
              "      <td>2.227041</td>\n",
              "      <td>106.976156</td>\n",
              "      <td>6.912011</td>\n",
              "    </tr>\n",
              "    <tr>\n",
              "      <th>min</th>\n",
              "      <td>0.013600</td>\n",
              "      <td>0.000000</td>\n",
              "      <td>1.320000</td>\n",
              "      <td>0.000000</td>\n",
              "      <td>0.392000</td>\n",
              "      <td>3.561000</td>\n",
              "      <td>6.800000</td>\n",
              "      <td>1.285200</td>\n",
              "      <td>1.000000</td>\n",
              "      <td>188.000000</td>\n",
              "      <td>12.600000</td>\n",
              "      <td>3.650000</td>\n",
              "      <td>1.730000</td>\n",
              "    </tr>\n",
              "    <tr>\n",
              "      <th>25%</th>\n",
              "      <td>0.100840</td>\n",
              "      <td>0.000000</td>\n",
              "      <td>6.090000</td>\n",
              "      <td>0.000000</td>\n",
              "      <td>0.449000</td>\n",
              "      <td>5.949000</td>\n",
              "      <td>47.200000</td>\n",
              "      <td>2.063500</td>\n",
              "      <td>4.000000</td>\n",
              "      <td>300.000000</td>\n",
              "      <td>16.600000</td>\n",
              "      <td>373.660000</td>\n",
              "      <td>7.120000</td>\n",
              "    </tr>\n",
              "    <tr>\n",
              "      <th>50%</th>\n",
              "      <td>0.290900</td>\n",
              "      <td>0.000000</td>\n",
              "      <td>9.900000</td>\n",
              "      <td>0.000000</td>\n",
              "      <td>0.544000</td>\n",
              "      <td>6.195000</td>\n",
              "      <td>78.100000</td>\n",
              "      <td>2.783100</td>\n",
              "      <td>5.000000</td>\n",
              "      <td>391.000000</td>\n",
              "      <td>19.100000</td>\n",
              "      <td>390.740000</td>\n",
              "      <td>12.260000</td>\n",
              "    </tr>\n",
              "    <tr>\n",
              "      <th>75%</th>\n",
              "      <td>4.261310</td>\n",
              "      <td>12.500000</td>\n",
              "      <td>18.100000</td>\n",
              "      <td>0.000000</td>\n",
              "      <td>0.624000</td>\n",
              "      <td>6.631000</td>\n",
              "      <td>94.500000</td>\n",
              "      <td>5.116700</td>\n",
              "      <td>24.000000</td>\n",
              "      <td>666.000000</td>\n",
              "      <td>20.200000</td>\n",
              "      <td>395.620000</td>\n",
              "      <td>17.160000</td>\n",
              "    </tr>\n",
              "    <tr>\n",
              "      <th>max</th>\n",
              "      <td>45.746100</td>\n",
              "      <td>100.000000</td>\n",
              "      <td>27.740000</td>\n",
              "      <td>1.000000</td>\n",
              "      <td>0.871000</td>\n",
              "      <td>7.929000</td>\n",
              "      <td>100.000000</td>\n",
              "      <td>9.220300</td>\n",
              "      <td>24.000000</td>\n",
              "      <td>711.000000</td>\n",
              "      <td>21.200000</td>\n",
              "      <td>396.900000</td>\n",
              "      <td>36.980000</td>\n",
              "    </tr>\n",
              "  </tbody>\n",
              "</table>\n",
              "</div>\n",
              "      <button class=\"colab-df-convert\" onclick=\"convertToInteractive('df-29fe2772-a6b8-4ce3-a709-b6ee3425f9da')\"\n",
              "              title=\"Convert this dataframe to an interactive table.\"\n",
              "              style=\"display:none;\">\n",
              "        \n",
              "  <svg xmlns=\"http://www.w3.org/2000/svg\" height=\"24px\"viewBox=\"0 0 24 24\"\n",
              "       width=\"24px\">\n",
              "    <path d=\"M0 0h24v24H0V0z\" fill=\"none\"/>\n",
              "    <path d=\"M18.56 5.44l.94 2.06.94-2.06 2.06-.94-2.06-.94-.94-2.06-.94 2.06-2.06.94zm-11 1L8.5 8.5l.94-2.06 2.06-.94-2.06-.94L8.5 2.5l-.94 2.06-2.06.94zm10 10l.94 2.06.94-2.06 2.06-.94-2.06-.94-.94-2.06-.94 2.06-2.06.94z\"/><path d=\"M17.41 7.96l-1.37-1.37c-.4-.4-.92-.59-1.43-.59-.52 0-1.04.2-1.43.59L10.3 9.45l-7.72 7.72c-.78.78-.78 2.05 0 2.83L4 21.41c.39.39.9.59 1.41.59.51 0 1.02-.2 1.41-.59l7.78-7.78 2.81-2.81c.8-.78.8-2.07 0-2.86zM5.41 20L4 18.59l7.72-7.72 1.47 1.35L5.41 20z\"/>\n",
              "  </svg>\n",
              "      </button>\n",
              "      \n",
              "  <style>\n",
              "    .colab-df-container {\n",
              "      display:flex;\n",
              "      flex-wrap:wrap;\n",
              "      gap: 12px;\n",
              "    }\n",
              "\n",
              "    .colab-df-convert {\n",
              "      background-color: #E8F0FE;\n",
              "      border: none;\n",
              "      border-radius: 50%;\n",
              "      cursor: pointer;\n",
              "      display: none;\n",
              "      fill: #1967D2;\n",
              "      height: 32px;\n",
              "      padding: 0 0 0 0;\n",
              "      width: 32px;\n",
              "    }\n",
              "\n",
              "    .colab-df-convert:hover {\n",
              "      background-color: #E2EBFA;\n",
              "      box-shadow: 0px 1px 2px rgba(60, 64, 67, 0.3), 0px 1px 3px 1px rgba(60, 64, 67, 0.15);\n",
              "      fill: #174EA6;\n",
              "    }\n",
              "\n",
              "    [theme=dark] .colab-df-convert {\n",
              "      background-color: #3B4455;\n",
              "      fill: #D2E3FC;\n",
              "    }\n",
              "\n",
              "    [theme=dark] .colab-df-convert:hover {\n",
              "      background-color: #434B5C;\n",
              "      box-shadow: 0px 1px 3px 1px rgba(0, 0, 0, 0.15);\n",
              "      filter: drop-shadow(0px 1px 2px rgba(0, 0, 0, 0.3));\n",
              "      fill: #FFFFFF;\n",
              "    }\n",
              "  </style>\n",
              "\n",
              "      <script>\n",
              "        const buttonEl =\n",
              "          document.querySelector('#df-29fe2772-a6b8-4ce3-a709-b6ee3425f9da button.colab-df-convert');\n",
              "        buttonEl.style.display =\n",
              "          google.colab.kernel.accessAllowed ? 'block' : 'none';\n",
              "\n",
              "        async function convertToInteractive(key) {\n",
              "          const element = document.querySelector('#df-29fe2772-a6b8-4ce3-a709-b6ee3425f9da');\n",
              "          const dataTable =\n",
              "            await google.colab.kernel.invokeFunction('convertToInteractive',\n",
              "                                                     [key], {});\n",
              "          if (!dataTable) return;\n",
              "\n",
              "          const docLinkHtml = 'Like what you see? Visit the ' +\n",
              "            '<a target=\"_blank\" href=https://colab.research.google.com/notebooks/data_table.ipynb>data table notebook</a>'\n",
              "            + ' to learn more about interactive tables.';\n",
              "          element.innerHTML = '';\n",
              "          dataTable['output_type'] = 'display_data';\n",
              "          await google.colab.output.renderOutput(dataTable, element);\n",
              "          const docLink = document.createElement('div');\n",
              "          docLink.innerHTML = docLinkHtml;\n",
              "          element.appendChild(docLink);\n",
              "        }\n",
              "      </script>\n",
              "    </div>\n",
              "  </div>\n",
              "  "
            ]
          },
          "metadata": {},
          "execution_count": 27
        }
      ]
    },
    {
      "cell_type": "markdown",
      "source": [
        "#--------------------------------------------------------------------------------------------\n",
        "### **CRIM** - column of Test_set "
      ],
      "metadata": {
        "id": "pHypK2TUV5SI"
      }
    },
    {
      "cell_type": "code",
      "source": [
        "q2 = df_test_set.CRIM.quantile(0.75)\n",
        "q1 = df_test_set.CRIM.quantile(0.25)\n",
        "iqr = q2 - q1\n",
        "upper = q2 + (1.5*iqr)\n",
        "lower = q1 - (1.5*iqr)\n",
        "lower, upper\n",
        "\n",
        "# finding (lower limit , upper limit) of CRIM column --from--> df_test_set"
      ],
      "metadata": {
        "colab": {
          "base_uri": "https://localhost:8080/"
        },
        "id": "oK8LtEvjS-v8",
        "outputId": "0ac333b0-b400-4b57-f947-114bc0a12a55"
      },
      "execution_count": null,
      "outputs": [
        {
          "output_type": "execute_result",
          "data": {
            "text/plain": [
              "(-6.139865, 10.502015)"
            ]
          },
          "metadata": {},
          "execution_count": 28
        }
      ]
    },
    {
      "cell_type": "code",
      "source": [
        "df_test_set.CRIM = df_test_set.CRIM.clip(-6.14, 10.50)\n",
        "\n",
        "# storing lower & upper limit of CRIM value inside \"df_test_set.CRIM\""
      ],
      "metadata": {
        "id": "VxS2Lex8S-tK"
      },
      "execution_count": null,
      "outputs": []
    },
    {
      "cell_type": "markdown",
      "source": [
        "#---------------------------------------------------------------------------------------------\n",
        "### **ZN** - column of Test_set"
      ],
      "metadata": {
        "id": "sjwTDycUV_Z8"
      }
    },
    {
      "cell_type": "code",
      "source": [
        "q2 = df_test_set.ZN.quantile(0.75)\n",
        "q1 = df_test_set.ZN.quantile(0.25)\n",
        "iqr = q2 - q1\n",
        "upper = q2 + (1.5*iqr)\n",
        "lower = q1 - (1.5*iqr)\n",
        "lower, upper\n",
        "\n",
        "# finding (lower limit , upper limit) of ZN column --from--> df_test_set"
      ],
      "metadata": {
        "colab": {
          "base_uri": "https://localhost:8080/"
        },
        "id": "IwhueV9BVnFK",
        "outputId": "6040ec14-079c-42c5-8aa6-368c3df7eaee"
      },
      "execution_count": null,
      "outputs": [
        {
          "output_type": "execute_result",
          "data": {
            "text/plain": [
              "(-18.75, 31.25)"
            ]
          },
          "metadata": {},
          "execution_count": 30
        }
      ]
    },
    {
      "cell_type": "code",
      "source": [
        "df_test_set.ZN = df_test_set.CRIM.clip(-18.75, 31.25)\n",
        "\n",
        "# storing lower & upper limit of ZN value inside \"df_test_set.ZN\""
      ],
      "metadata": {
        "id": "UkzWADpBVnBw"
      },
      "execution_count": null,
      "outputs": []
    },
    {
      "cell_type": "markdown",
      "source": [
        "#-------------------------------------------------------------------------------------------\n",
        "### **LSTAT** - column of Test_set"
      ],
      "metadata": {
        "id": "x8J5o8JyY7Ke"
      }
    },
    {
      "cell_type": "code",
      "source": [
        "q2 = df_test_set.LSTAT.quantile(0.75)\n",
        "q1 = df_test_set.LSTAT.quantile(0.25)\n",
        "iqr = q2 - q1\n",
        "upper = q2 + (1.5*iqr)\n",
        "lower = q1 - (1.5*iqr)\n",
        "lower, upper\n",
        "\n",
        "# finding (lower limit , upper limit) of LSTAT column --from--> df_test_set"
      ],
      "metadata": {
        "colab": {
          "base_uri": "https://localhost:8080/"
        },
        "id": "SbN5AHoAVm6t",
        "outputId": "634c3c2d-b68b-4bb2-e8e7-bc595e69ed31"
      },
      "execution_count": null,
      "outputs": [
        {
          "output_type": "execute_result",
          "data": {
            "text/plain": [
              "(-7.939999999999999, 32.22)"
            ]
          },
          "metadata": {},
          "execution_count": 32
        }
      ]
    },
    {
      "cell_type": "code",
      "source": [
        "df_test_set.LSTAT = df_test_set.LSTAT.clip(-7.94, 32.22)\n",
        "\n",
        "# storing (lower ,upper limit) of LSTAT value inside \"df_test_set.LSTAT\""
      ],
      "metadata": {
        "id": "EvDKzrQkVm3F"
      },
      "execution_count": null,
      "outputs": []
    },
    {
      "cell_type": "markdown",
      "source": [
        "___________________________________________________________________________________________\n",
        "# **Correlation**"
      ],
      "metadata": {
        "id": "mdpHm9XhZUXh"
      }
    },
    {
      "cell_type": "code",
      "source": [
        "corr = df_train_set.corr()\n",
        "plt.figure(figsize = (8, 6))\n",
        "sns.heatmap(corr, annot = True)"
      ],
      "metadata": {
        "colab": {
          "base_uri": "https://localhost:8080/",
          "height": 426
        },
        "id": "MsZMA8bVVm0n",
        "outputId": "d6616c4f-1fe9-4d06-fdf5-ce5d89a24dca"
      },
      "execution_count": null,
      "outputs": [
        {
          "output_type": "execute_result",
          "data": {
            "text/plain": [
              "<AxesSubplot:>"
            ]
          },
          "metadata": {},
          "execution_count": 34
        },
        {
          "output_type": "display_data",
          "data": {
            "text/plain": [
              "<Figure size 576x432 with 2 Axes>"
            ],
            "image/png": "[encoded data removed]"
          },
          "metadata": {
            "needs_background": "light"
          }
        }
      ]
    },
    {
      "cell_type": "markdown",
      "source": [
        "__________________________________________________________________________________________\n",
        "# **Model**"
      ],
      "metadata": {
        "id": "QGIDYwlrbbVF"
      }
    },
    {
      "cell_type": "code",
      "source": [
        "from sklearn.model_selection import train_test_split\n",
        "from sklearn.model_selection import cross_val_score\n",
        "from sklearn.linear_model import LinearRegression\n",
        "from sklearn.linear_model import Ridge\n",
        "from sklearn.linear_model import Lasso\n",
        "from sklearn import metrics"
      ],
      "metadata": {
        "id": "Ls0fnQ4qVmx4"
      },
      "execution_count": null,
      "outputs": []
    },
    {
      "cell_type": "code",
      "source": [
        "X = df_train_set[['ZN', 'INDUS', 'NOX', 'RM', 'AGE', 'DIS', 'RAD', 'TAX', 'PTRATIO', 'B', 'LSTAT']]\n",
        "y = df_train_set['MEDV']\n",
        "\n",
        "X_train, X_test, y_train, y_test = train_test_split(X, y, test_size = 0.25, random_state = 121)\n",
        "\n",
        "R2_score = pd.Series()\n",
        "intercept = pd.Series()\n",
        "df_coef = pd.DataFrame(index = ['ZN', 'INDUS', 'NOX', 'RM', 'AGE', 'DIS', 'RAD', 'TAX', 'PTRATIO', 'B', 'LSTAT'])\n",
        "cross_val = pd.Series()\n",
        "\n",
        "def model(x) :\n",
        "    reg = x\n",
        "    reg.fit(X_train, y_train)\n",
        "    R2_score[x] =  reg.score(X_test, y_test)\n",
        "    intercept[x] = reg.intercept_\n",
        "    df_coef[x] = reg.coef_\n",
        "    cross_val[x] = np.mean(cross_val_score(reg, X_train, y_train, cv = 10))\n",
        "    \n",
        "\n",
        "model(LinearRegression())\n",
        "model(Ridge())\n",
        "model(Lasso())    "
      ],
      "metadata": {
        "id": "d6IPzPgOc8Fc"
      },
      "execution_count": null,
      "outputs": []
    },
    {
      "cell_type": "code",
      "source": [
        "R2_score"
      ],
      "metadata": {
        "colab": {
          "base_uri": "https://localhost:8080/"
        },
        "id": "UXvum8Toc79r",
        "outputId": "15fff66a-4442-4cc7-c0e5-0dc82ca76184"
      },
      "execution_count": null,
      "outputs": [
        {
          "output_type": "execute_result",
          "data": {
            "text/plain": [
              "LinearRegression()    0.780596\n",
              "Ridge()               0.780096\n",
              "Lasso()               0.699059\n",
              "dtype: float64"
            ]
          },
          "metadata": {},
          "execution_count": 37
        }
      ]
    },
    {
      "cell_type": "code",
      "source": [
        "cross_val"
      ],
      "metadata": {
        "colab": {
          "base_uri": "https://localhost:8080/"
        },
        "id": "fVIeFNJTc76D",
        "outputId": "a6eaacde-ba9e-4342-efb9-0460e152bb85"
      },
      "execution_count": null,
      "outputs": [
        {
          "output_type": "execute_result",
          "data": {
            "text/plain": [
              "LinearRegression()    0.759874\n",
              "Ridge()               0.757764\n",
              "Lasso()               0.689962\n",
              "dtype: float64"
            ]
          },
          "metadata": {},
          "execution_count": 38
        }
      ]
    },
    {
      "cell_type": "code",
      "source": [
        "intercept"
      ],
      "metadata": {
        "colab": {
          "base_uri": "https://localhost:8080/"
        },
        "id": "lNVsfRNPc73-",
        "outputId": "f487d20f-7e2e-4524-8072-f600ef8ebe51"
      },
      "execution_count": null,
      "outputs": [
        {
          "output_type": "execute_result",
          "data": {
            "text/plain": [
              "LinearRegression()    34.175355\n",
              "Ridge()               29.111589\n",
              "Lasso()               40.166359\n",
              "dtype: float64"
            ]
          },
          "metadata": {},
          "execution_count": 39
        }
      ]
    },
    {
      "cell_type": "code",
      "source": [
        "df_coef"
      ],
      "metadata": {
        "colab": {
          "base_uri": "https://localhost:8080/",
          "height": 394
        },
        "id": "HSgdw31lc71B",
        "outputId": "50c3e8b1-e7cf-4acc-eec7-cc2c7feef6d0"
      },
      "execution_count": null,
      "outputs": [
        {
          "output_type": "execute_result",
          "data": {
            "text/plain": [
              "         LinearRegression()   Ridge()   Lasso()\n",
              "ZN                 0.033252  0.036138  0.050214\n",
              "INDUS             -0.000602 -0.033098 -0.006529\n",
              "NOX              -14.874181 -7.129965 -0.000000\n",
              "RM                 2.863207  2.860363  0.000000\n",
              "AGE               -0.006157 -0.012687  0.020818\n",
              "DIS               -0.981686 -0.882854 -0.278016\n",
              "RAD                0.162371  0.147407  0.151506\n",
              "TAX               -0.009839 -0.010289 -0.012796\n",
              "PTRATIO           -0.741968 -0.660262 -0.507129\n",
              "B                  0.010635  0.011287  0.008374\n",
              "LSTAT             -0.464675 -0.481777 -0.703061"
            ],
            "text/html": [
              "\n",
              "  <div id=\"df-648d63e7-b6df-4c41-8d96-657f52d9b427\">\n",
              "    <div class=\"colab-df-container\">\n",
              "      <div>\n",
              "<style scoped>\n",
              "    .dataframe tbody tr th:only-of-type {\n",
              "        vertical-align: middle;\n",
              "    }\n",
              "\n",
              "    .dataframe tbody tr th {\n",
              "        vertical-align: top;\n",
              "    }\n",
              "\n",
              "    .dataframe thead th {\n",
              "        text-align: right;\n",
              "    }\n",
              "</style>\n",
              "<table border=\"1\" class=\"dataframe\">\n",
              "  <thead>\n",
              "    <tr style=\"text-align: right;\">\n",
              "      <th></th>\n",
              "      <th>LinearRegression()</th>\n",
              "      <th>Ridge()</th>\n",
              "      <th>Lasso()</th>\n",
              "    </tr>\n",
              "  </thead>\n",
              "  <tbody>\n",
              "    <tr>\n",
              "      <th>ZN</th>\n",
              "      <td>0.033252</td>\n",
              "      <td>0.036138</td>\n",
              "      <td>0.050214</td>\n",
              "    </tr>\n",
              "    <tr>\n",
              "      <th>INDUS</th>\n",
              "      <td>-0.000602</td>\n",
              "      <td>-0.033098</td>\n",
              "      <td>-0.006529</td>\n",
              "    </tr>\n",
              "    <tr>\n",
              "      <th>NOX</th>\n",
              "      <td>-14.874181</td>\n",
              "      <td>-7.129965</td>\n",
              "      <td>-0.000000</td>\n",
              "    </tr>\n",
              "    <tr>\n",
              "      <th>RM</th>\n",
              "      <td>2.863207</td>\n",
              "      <td>2.860363</td>\n",
              "      <td>0.000000</td>\n",
              "    </tr>\n",
              "    <tr>\n",
              "      <th>AGE</th>\n",
              "      <td>-0.006157</td>\n",
              "      <td>-0.012687</td>\n",
              "      <td>0.020818</td>\n",
              "    </tr>\n",
              "    <tr>\n",
              "      <th>DIS</th>\n",
              "      <td>-0.981686</td>\n",
              "      <td>-0.882854</td>\n",
              "      <td>-0.278016</td>\n",
              "    </tr>\n",
              "    <tr>\n",
              "      <th>RAD</th>\n",
              "      <td>0.162371</td>\n",
              "      <td>0.147407</td>\n",
              "      <td>0.151506</td>\n",
              "    </tr>\n",
              "    <tr>\n",
              "      <th>TAX</th>\n",
              "      <td>-0.009839</td>\n",
              "      <td>-0.010289</td>\n",
              "      <td>-0.012796</td>\n",
              "    </tr>\n",
              "    <tr>\n",
              "      <th>PTRATIO</th>\n",
              "      <td>-0.741968</td>\n",
              "      <td>-0.660262</td>\n",
              "      <td>-0.507129</td>\n",
              "    </tr>\n",
              "    <tr>\n",
              "      <th>B</th>\n",
              "      <td>0.010635</td>\n",
              "      <td>0.011287</td>\n",
              "      <td>0.008374</td>\n",
              "    </tr>\n",
              "    <tr>\n",
              "      <th>LSTAT</th>\n",
              "      <td>-0.464675</td>\n",
              "      <td>-0.481777</td>\n",
              "      <td>-0.703061</td>\n",
              "    </tr>\n",
              "  </tbody>\n",
              "</table>\n",
              "</div>\n",
              "      <button class=\"colab-df-convert\" onclick=\"convertToInteractive('df-648d63e7-b6df-4c41-8d96-657f52d9b427')\"\n",
              "              title=\"Convert this dataframe to an interactive table.\"\n",
              "              style=\"display:none;\">\n",
              "        \n",
              "  <svg xmlns=\"http://www.w3.org/2000/svg\" height=\"24px\"viewBox=\"0 0 24 24\"\n",
              "       width=\"24px\">\n",
              "    <path d=\"M0 0h24v24H0V0z\" fill=\"none\"/>\n",
              "    <path d=\"M18.56 5.44l.94 2.06.94-2.06 2.06-.94-2.06-.94-.94-2.06-.94 2.06-2.06.94zm-11 1L8.5 8.5l.94-2.06 2.06-.94-2.06-.94L8.5 2.5l-.94 2.06-2.06.94zm10 10l.94 2.06.94-2.06 2.06-.94-2.06-.94-.94-2.06-.94 2.06-2.06.94z\"/><path d=\"M17.41 7.96l-1.37-1.37c-.4-.4-.92-.59-1.43-.59-.52 0-1.04.2-1.43.59L10.3 9.45l-7.72 7.72c-.78.78-.78 2.05 0 2.83L4 21.41c.39.39.9.59 1.41.59.51 0 1.02-.2 1.41-.59l7.78-7.78 2.81-2.81c.8-.78.8-2.07 0-2.86zM5.41 20L4 18.59l7.72-7.72 1.47 1.35L5.41 20z\"/>\n",
              "  </svg>\n",
              "      </button>\n",
              "      \n",
              "  <style>\n",
              "    .colab-df-container {\n",
              "      display:flex;\n",
              "      flex-wrap:wrap;\n",
              "      gap: 12px;\n",
              "    }\n",
              "\n",
              "    .colab-df-convert {\n",
              "      background-color: #E8F0FE;\n",
              "      border: none;\n",
              "      border-radius: 50%;\n",
              "      cursor: pointer;\n",
              "      display: none;\n",
              "      fill: #1967D2;\n",
              "      height: 32px;\n",
              "      padding: 0 0 0 0;\n",
              "      width: 32px;\n",
              "    }\n",
              "\n",
              "    .colab-df-convert:hover {\n",
              "      background-color: #E2EBFA;\n",
              "      box-shadow: 0px 1px 2px rgba(60, 64, 67, 0.3), 0px 1px 3px 1px rgba(60, 64, 67, 0.15);\n",
              "      fill: #174EA6;\n",
              "    }\n",
              "\n",
              "    [theme=dark] .colab-df-convert {\n",
              "      background-color: #3B4455;\n",
              "      fill: #D2E3FC;\n",
              "    }\n",
              "\n",
              "    [theme=dark] .colab-df-convert:hover {\n",
              "      background-color: #434B5C;\n",
              "      box-shadow: 0px 1px 3px 1px rgba(0, 0, 0, 0.15);\n",
              "      filter: drop-shadow(0px 1px 2px rgba(0, 0, 0, 0.3));\n",
              "      fill: #FFFFFF;\n",
              "    }\n",
              "  </style>\n",
              "\n",
              "      <script>\n",
              "        const buttonEl =\n",
              "          document.querySelector('#df-648d63e7-b6df-4c41-8d96-657f52d9b427 button.colab-df-convert');\n",
              "        buttonEl.style.display =\n",
              "          google.colab.kernel.accessAllowed ? 'block' : 'none';\n",
              "\n",
              "        async function convertToInteractive(key) {\n",
              "          const element = document.querySelector('#df-648d63e7-b6df-4c41-8d96-657f52d9b427');\n",
              "          const dataTable =\n",
              "            await google.colab.kernel.invokeFunction('convertToInteractive',\n",
              "                                                     [key], {});\n",
              "          if (!dataTable) return;\n",
              "\n",
              "          const docLinkHtml = 'Like what you see? Visit the ' +\n",
              "            '<a target=\"_blank\" href=https://colab.research.google.com/notebooks/data_table.ipynb>data table notebook</a>'\n",
              "            + ' to learn more about interactive tables.';\n",
              "          element.innerHTML = '';\n",
              "          dataTable['output_type'] = 'display_data';\n",
              "          await google.colab.output.renderOutput(dataTable, element);\n",
              "          const docLink = document.createElement('div');\n",
              "          docLink.innerHTML = docLinkHtml;\n",
              "          element.appendChild(docLink);\n",
              "        }\n",
              "      </script>\n",
              "    </div>\n",
              "  </div>\n",
              "  "
            ]
          },
          "metadata": {},
          "execution_count": 40
        }
      ]
    },
    {
      "cell_type": "markdown",
      "source": [
        "__________________________________________________________________________________________________\n",
        "# **Modelling All Features of Train_set**"
      ],
      "metadata": {
        "id": "SQAz6I84eCcF"
      }
    },
    {
      "cell_type": "code",
      "source": [
        "df_train_set.columns"
      ],
      "metadata": {
        "colab": {
          "base_uri": "https://localhost:8080/"
        },
        "id": "2fypadPseB46",
        "outputId": "3233fd70-c6a7-47b7-ae8a-58290908b08b"
      },
      "execution_count": null,
      "outputs": [
        {
          "output_type": "execute_result",
          "data": {
            "text/plain": [
              "Index(['CRIM', 'ZN', 'INDUS', 'CHAS', 'NOX', 'RM', 'AGE', 'DIS', 'RAD', 'TAX',\n",
              "       'PTRATIO', 'B', 'LSTAT', 'MEDV'],\n",
              "      dtype='object')"
            ]
          },
          "metadata": {},
          "execution_count": 41
        }
      ]
    },
    {
      "cell_type": "code",
      "source": [
        "from sklearn.model_selection import train_test_split\n",
        "X = df_train_set[['CRIM', 'ZN', 'INDUS', 'CHAS', 'NOX', 'RM', 'AGE', 'DIS', 'RAD', 'TAX', 'PTRATIO', 'B', 'LSTAT']]\n",
        "y = df_train_set['MEDV']\n",
        "\n",
        "X_train, X_test, y_train, y_test = train_test_split(X, y, test_size = 0.25, random_state = 121)\n",
        "\n",
        "R2_score = pd.Series()\n",
        "intercept = pd.Series()\n",
        "df_coef = pd.DataFrame(index = ['CRIM', 'ZN', 'INDUS', 'CHAS', 'NOX', 'RM', 'AGE', 'DIS', 'RAD', 'TAX', 'PTRATIO', 'B', 'LSTAT'])\n",
        "cross_val = pd.Series()\n",
        "\n",
        "\n",
        "def model(x) :\n",
        "    reg = x\n",
        "    reg.fit(X_train, y_train)\n",
        "    R2_score[x] =  reg.score(X_test, y_test)\n",
        "    intercept[x] = reg.intercept_\n",
        "    df_coef[x] = reg.coef_\n",
        "    cross_val[x] = np.mean(cross_val_score(reg, X_train, y_train, cv = 10))\n",
        "    \n",
        "model(LinearRegression())\n",
        "model(Ridge())\n",
        "model(Lasso())"
      ],
      "metadata": {
        "id": "NLUXxyG-eBmd"
      },
      "execution_count": null,
      "outputs": []
    },
    {
      "cell_type": "code",
      "source": [
        "R2_score"
      ],
      "metadata": {
        "colab": {
          "base_uri": "https://localhost:8080/"
        },
        "id": "MNXF9jECeBjE",
        "outputId": "b4459b05-2c42-4182-caf5-287631f261a9"
      },
      "execution_count": null,
      "outputs": [
        {
          "output_type": "execute_result",
          "data": {
            "text/plain": [
              "LinearRegression()    0.788415\n",
              "Ridge()               0.788644\n",
              "Lasso()               0.699058\n",
              "dtype: float64"
            ]
          },
          "metadata": {},
          "execution_count": 43
        }
      ]
    },
    {
      "cell_type": "code",
      "source": [
        "cross_val"
      ],
      "metadata": {
        "colab": {
          "base_uri": "https://localhost:8080/"
        },
        "id": "nCsHJUBEeBdy",
        "outputId": "442ba25c-9bb7-49de-f9f9-dec56002aea3"
      },
      "execution_count": null,
      "outputs": [
        {
          "output_type": "execute_result",
          "data": {
            "text/plain": [
              "LinearRegression()    0.760425\n",
              "Ridge()               0.759094\n",
              "Lasso()               0.689961\n",
              "dtype: float64"
            ]
          },
          "metadata": {},
          "execution_count": 44
        }
      ]
    },
    {
      "cell_type": "code",
      "source": [
        "intercept"
      ],
      "metadata": {
        "colab": {
          "base_uri": "https://localhost:8080/"
        },
        "id": "KH14sHjLeBa-",
        "outputId": "c219dd5e-0d71-4324-c97b-23b1c263a311"
      },
      "execution_count": null,
      "outputs": [
        {
          "output_type": "execute_result",
          "data": {
            "text/plain": [
              "LinearRegression()    33.165840\n",
              "Ridge()               28.414764\n",
              "Lasso()               40.166300\n",
              "dtype: float64"
            ]
          },
          "metadata": {},
          "execution_count": 45
        }
      ]
    },
    {
      "cell_type": "code",
      "source": [
        "df_coef"
      ],
      "metadata": {
        "colab": {
          "base_uri": "https://localhost:8080/",
          "height": 457
        },
        "id": "Wt43PeWHeBYL",
        "outputId": "bff695b7-ac4e-42cf-ea56-e1018c41366c"
      },
      "execution_count": null,
      "outputs": [
        {
          "output_type": "execute_result",
          "data": {
            "text/plain": [
              "         LinearRegression()   Ridge()   Lasso()\n",
              "CRIM              -0.247824 -0.317539 -0.000000\n",
              "ZN                 0.034160  0.037427  0.050213\n",
              "INDUS             -0.031819 -0.062471 -0.006540\n",
              "CHAS               1.911439  1.845377  0.000000\n",
              "NOX              -14.028555 -6.620196 -0.000000\n",
              "RM                 2.804615  2.797187  0.000000\n",
              "AGE               -0.008250 -0.014257  0.020817\n",
              "DIS               -0.988302 -0.900782 -0.278032\n",
              "RAD                0.220044  0.226317  0.151487\n",
              "TAX               -0.008428 -0.008846 -0.012795\n",
              "PTRATIO           -0.709661 -0.637377 -0.507124\n",
              "B                  0.009988  0.010467  0.008374\n",
              "LSTAT             -0.440223 -0.452135 -0.703058"
            ],
            "text/html": [
              "\n",
              "  <div id=\"df-681343be-1d49-4afd-9af3-859147e5fc81\">\n",
              "    <div class=\"colab-df-container\">\n",
              "      <div>\n",
              "<style scoped>\n",
              "    .dataframe tbody tr th:only-of-type {\n",
              "        vertical-align: middle;\n",
              "    }\n",
              "\n",
              "    .dataframe tbody tr th {\n",
              "        vertical-align: top;\n",
              "    }\n",
              "\n",
              "    .dataframe thead th {\n",
              "        text-align: right;\n",
              "    }\n",
              "</style>\n",
              "<table border=\"1\" class=\"dataframe\">\n",
              "  <thead>\n",
              "    <tr style=\"text-align: right;\">\n",
              "      <th></th>\n",
              "      <th>LinearRegression()</th>\n",
              "      <th>Ridge()</th>\n",
              "      <th>Lasso()</th>\n",
              "    </tr>\n",
              "  </thead>\n",
              "  <tbody>\n",
              "    <tr>\n",
              "      <th>CRIM</th>\n",
              "      <td>-0.247824</td>\n",
              "      <td>-0.317539</td>\n",
              "      <td>-0.000000</td>\n",
              "    </tr>\n",
              "    <tr>\n",
              "      <th>ZN</th>\n",
              "      <td>0.034160</td>\n",
              "      <td>0.037427</td>\n",
              "      <td>0.050213</td>\n",
              "    </tr>\n",
              "    <tr>\n",
              "      <th>INDUS</th>\n",
              "      <td>-0.031819</td>\n",
              "      <td>-0.062471</td>\n",
              "      <td>-0.006540</td>\n",
              "    </tr>\n",
              "    <tr>\n",
              "      <th>CHAS</th>\n",
              "      <td>1.911439</td>\n",
              "      <td>1.845377</td>\n",
              "      <td>0.000000</td>\n",
              "    </tr>\n",
              "    <tr>\n",
              "      <th>NOX</th>\n",
              "      <td>-14.028555</td>\n",
              "      <td>-6.620196</td>\n",
              "      <td>-0.000000</td>\n",
              "    </tr>\n",
              "    <tr>\n",
              "      <th>RM</th>\n",
              "      <td>2.804615</td>\n",
              "      <td>2.797187</td>\n",
              "      <td>0.000000</td>\n",
              "    </tr>\n",
              "    <tr>\n",
              "      <th>AGE</th>\n",
              "      <td>-0.008250</td>\n",
              "      <td>-0.014257</td>\n",
              "      <td>0.020817</td>\n",
              "    </tr>\n",
              "    <tr>\n",
              "      <th>DIS</th>\n",
              "      <td>-0.988302</td>\n",
              "      <td>-0.900782</td>\n",
              "      <td>-0.278032</td>\n",
              "    </tr>\n",
              "    <tr>\n",
              "      <th>RAD</th>\n",
              "      <td>0.220044</td>\n",
              "      <td>0.226317</td>\n",
              "      <td>0.151487</td>\n",
              "    </tr>\n",
              "    <tr>\n",
              "      <th>TAX</th>\n",
              "      <td>-0.008428</td>\n",
              "      <td>-0.008846</td>\n",
              "      <td>-0.012795</td>\n",
              "    </tr>\n",
              "    <tr>\n",
              "      <th>PTRATIO</th>\n",
              "      <td>-0.709661</td>\n",
              "      <td>-0.637377</td>\n",
              "      <td>-0.507124</td>\n",
              "    </tr>\n",
              "    <tr>\n",
              "      <th>B</th>\n",
              "      <td>0.009988</td>\n",
              "      <td>0.010467</td>\n",
              "      <td>0.008374</td>\n",
              "    </tr>\n",
              "    <tr>\n",
              "      <th>LSTAT</th>\n",
              "      <td>-0.440223</td>\n",
              "      <td>-0.452135</td>\n",
              "      <td>-0.703058</td>\n",
              "    </tr>\n",
              "  </tbody>\n",
              "</table>\n",
              "</div>\n",
              "      <button class=\"colab-df-convert\" onclick=\"convertToInteractive('df-681343be-1d49-4afd-9af3-859147e5fc81')\"\n",
              "              title=\"Convert this dataframe to an interactive table.\"\n",
              "              style=\"display:none;\">\n",
              "        \n",
              "  <svg xmlns=\"http://www.w3.org/2000/svg\" height=\"24px\"viewBox=\"0 0 24 24\"\n",
              "       width=\"24px\">\n",
              "    <path d=\"M0 0h24v24H0V0z\" fill=\"none\"/>\n",
              "    <path d=\"M18.56 5.44l.94 2.06.94-2.06 2.06-.94-2.06-.94-.94-2.06-.94 2.06-2.06.94zm-11 1L8.5 8.5l.94-2.06 2.06-.94-2.06-.94L8.5 2.5l-.94 2.06-2.06.94zm10 10l.94 2.06.94-2.06 2.06-.94-2.06-.94-.94-2.06-.94 2.06-2.06.94z\"/><path d=\"M17.41 7.96l-1.37-1.37c-.4-.4-.92-.59-1.43-.59-.52 0-1.04.2-1.43.59L10.3 9.45l-7.72 7.72c-.78.78-.78 2.05 0 2.83L4 21.41c.39.39.9.59 1.41.59.51 0 1.02-.2 1.41-.59l7.78-7.78 2.81-2.81c.8-.78.8-2.07 0-2.86zM5.41 20L4 18.59l7.72-7.72 1.47 1.35L5.41 20z\"/>\n",
              "  </svg>\n",
              "      </button>\n",
              "      \n",
              "  <style>\n",
              "    .colab-df-container {\n",
              "      display:flex;\n",
              "      flex-wrap:wrap;\n",
              "      gap: 12px;\n",
              "    }\n",
              "\n",
              "    .colab-df-convert {\n",
              "      background-color: #E8F0FE;\n",
              "      border: none;\n",
              "      border-radius: 50%;\n",
              "      cursor: pointer;\n",
              "      display: none;\n",
              "      fill: #1967D2;\n",
              "      height: 32px;\n",
              "      padding: 0 0 0 0;\n",
              "      width: 32px;\n",
              "    }\n",
              "\n",
              "    .colab-df-convert:hover {\n",
              "      background-color: #E2EBFA;\n",
              "      box-shadow: 0px 1px 2px rgba(60, 64, 67, 0.3), 0px 1px 3px 1px rgba(60, 64, 67, 0.15);\n",
              "      fill: #174EA6;\n",
              "    }\n",
              "\n",
              "    [theme=dark] .colab-df-convert {\n",
              "      background-color: #3B4455;\n",
              "      fill: #D2E3FC;\n",
              "    }\n",
              "\n",
              "    [theme=dark] .colab-df-convert:hover {\n",
              "      background-color: #434B5C;\n",
              "      box-shadow: 0px 1px 3px 1px rgba(0, 0, 0, 0.15);\n",
              "      filter: drop-shadow(0px 1px 2px rgba(0, 0, 0, 0.3));\n",
              "      fill: #FFFFFF;\n",
              "    }\n",
              "  </style>\n",
              "\n",
              "      <script>\n",
              "        const buttonEl =\n",
              "          document.querySelector('#df-681343be-1d49-4afd-9af3-859147e5fc81 button.colab-df-convert');\n",
              "        buttonEl.style.display =\n",
              "          google.colab.kernel.accessAllowed ? 'block' : 'none';\n",
              "\n",
              "        async function convertToInteractive(key) {\n",
              "          const element = document.querySelector('#df-681343be-1d49-4afd-9af3-859147e5fc81');\n",
              "          const dataTable =\n",
              "            await google.colab.kernel.invokeFunction('convertToInteractive',\n",
              "                                                     [key], {});\n",
              "          if (!dataTable) return;\n",
              "\n",
              "          const docLinkHtml = 'Like what you see? Visit the ' +\n",
              "            '<a target=\"_blank\" href=https://colab.research.google.com/notebooks/data_table.ipynb>data table notebook</a>'\n",
              "            + ' to learn more about interactive tables.';\n",
              "          element.innerHTML = '';\n",
              "          dataTable['output_type'] = 'display_data';\n",
              "          await google.colab.output.renderOutput(dataTable, element);\n",
              "          const docLink = document.createElement('div');\n",
              "          docLink.innerHTML = docLinkHtml;\n",
              "          element.appendChild(docLink);\n",
              "        }\n",
              "      </script>\n",
              "    </div>\n",
              "  </div>\n",
              "  "
            ]
          },
          "metadata": {},
          "execution_count": 46
        }
      ]
    },
    {
      "cell_type": "markdown",
      "source": [
        "_______________________________________________________________________________________________\n",
        "# **LINEAR Regression** - Train_set"
      ],
      "metadata": {
        "id": "55HXG9HEfD4j"
      }
    },
    {
      "cell_type": "code",
      "source": [
        "from itertools import combinations"
      ],
      "metadata": {
        "id": "zeeh61jHfPtn"
      },
      "execution_count": null,
      "outputs": []
    },
    {
      "cell_type": "code",
      "source": [
        "features = ['CRIM', 'ZN', 'INDUS', 'CHAS', 'NOX', 'RM', 'AGE', 'DIS', 'RAD', 'TAX', 'PTRATIO', 'B', 'LSTAT']\n",
        "\n",
        "combo_list = []\n",
        "combo_r2_reg = []\n",
        "combo_cv_reg = []\n",
        "\n",
        "for i in range(1, len(features)+1) :\n",
        "    combo = list(combinations(features, i))\n",
        "    for j in combo :\n",
        "        combo_list.append(j)\n",
        "\n",
        "for i in combo_list :\n",
        "    X = df_train_set.loc[:,i]\n",
        "    Y = df_train_set['MEDV']\n",
        "    X_train, X_test, y_train, y_test = train_test_split(X, y, test_size = 0.25, random_state = 121)\n",
        "    reg = LinearRegression()\n",
        "    reg.fit(X_train, y_train)\n",
        "    combo_r2_reg.append(reg.score(X_test, y_test))\n",
        "    combo_cv_reg.append(np.mean(cross_val_score(reg, X_train, y_train, cv = 10)))\n",
        "r2_reg = combo_r2_reg.index(max(combo_r2_reg))\n",
        "cv_reg = combo_cv_reg.index(max(combo_cv_reg))"
      ],
      "metadata": {
        "id": "qAvDSf8efPqF"
      },
      "execution_count": null,
      "outputs": []
    },
    {
      "cell_type": "code",
      "source": [
        "#NOTE:-\n",
        "# Execution may take some time - based on system RAM "
      ],
      "metadata": {
        "id": "0UlkgZtUiX14"
      },
      "execution_count": null,
      "outputs": []
    },
    {
      "cell_type": "markdown",
      "source": [
        "_______________________________________________________________________________________________\n",
        "# **Ridge** - Train_set"
      ],
      "metadata": {
        "id": "Awc1nt0CgGlL"
      }
    },
    {
      "cell_type": "code",
      "source": [
        "features = ['CRIM', 'ZN', 'INDUS', 'CHAS', 'NOX', 'RM', 'AGE', 'DIS', 'RAD', 'TAX', 'PTRATIO', 'B', 'LSTAT']\n",
        "\n",
        "combo_list = []\n",
        "combo_r2_rd = []\n",
        "combo_cv_rd = []\n",
        "\n",
        "for i in range(1, len(features)+1) :\n",
        "    combo = list(combinations(features, i))\n",
        "    for j in combo :\n",
        "        combo_list.append(j)\n",
        "\n",
        "for i in combo_list :\n",
        "    X = df_train_set.loc[:,i]\n",
        "    Y = df_train_set['MEDV']\n",
        "    X_train, X_test, y_train, y_test = train_test_split(X, y, test_size = 0.25, random_state = 121)\n",
        "    rd = Ridge()\n",
        "    rd.fit(X_train, y_train)\n",
        "    combo_r2_rd.append(rd.score(X_test, y_test))\n",
        "    combo_cv_rd.append(np.mean(cross_val_score(rd, X_train, y_train, cv = 10)))\n",
        "r2_rd = combo_r2_rd.index(max(combo_r2_rd))\n",
        "cv_rd = combo_cv_rd.index(max(combo_cv_rd))"
      ],
      "metadata": {
        "id": "e0Vx4CSXgNQR"
      },
      "execution_count": null,
      "outputs": []
    },
    {
      "cell_type": "code",
      "source": [
        "#NOTE:-\n",
        "# Execution may take some time - based on system RAM "
      ],
      "metadata": {
        "id": "LS6CWbXki9Zd"
      },
      "execution_count": null,
      "outputs": []
    },
    {
      "cell_type": "markdown",
      "source": [
        "_________________________________________________________________________________________________\n",
        "# **Lasso** - Train_set"
      ],
      "metadata": {
        "id": "deE9O-TwgX-K"
      }
    },
    {
      "cell_type": "code",
      "source": [
        "features = ['CRIM', 'ZN', 'INDUS', 'CHAS', 'NOX', 'RM', 'AGE', 'DIS', 'RAD', 'TAX', 'PTRATIO', 'B', 'LSTAT']\n",
        "\n",
        "combo_list = []\n",
        "combo_r2_ls = []\n",
        "combo_cv_ls = []\n",
        "\n",
        "for i in range(1, len(features)+1) :\n",
        "    combo = list(combinations(features, i))\n",
        "    for j in combo :\n",
        "        combo_list.append(j)\n",
        "\n",
        "for i in combo_list :\n",
        "    X = df_train_set.loc[:,i]\n",
        "    Y = df_train_set['MEDV']\n",
        "    X_train, X_test, y_train, y_test = train_test_split(X, y, test_size = 0.25, random_state = 121)\n",
        "    ls = Lasso()\n",
        "    ls.fit(X_train, y_train)\n",
        "    combo_r2_ls.append(ls.score(X_test, y_test))\n",
        "    combo_cv_ls.append(np.mean(cross_val_score(ls, X_train, y_train, cv = 10)))\n",
        "r2_ls = combo_r2_ls.index(max(combo_r2_ls))\n",
        "cv_ls = combo_cv_ls.index(max(combo_cv_ls))"
      ],
      "metadata": {
        "id": "eGW6oq7PgXdU"
      },
      "execution_count": null,
      "outputs": []
    },
    {
      "cell_type": "code",
      "source": [
        "#NOTE:-\n",
        "# Execution may take some time - based on system RAM "
      ],
      "metadata": {
        "id": "CocVLrgZmgFy"
      },
      "execution_count": null,
      "outputs": []
    },
    {
      "cell_type": "markdown",
      "source": [
        "_______________________________________________________________________________________________\n",
        "# **Scores**"
      ],
      "metadata": {
        "id": "nrfta7BCjTwG"
      }
    },
    {
      "cell_type": "code",
      "source": [
        "print('Linear Regression')\n",
        "print('R2 Score - ', combo_list[r2_reg],' : ',combo_r2_reg[r2_reg])\n",
        "print('CV Score - ', combo_list[cv_reg],' : ',combo_cv_reg[cv_reg])\n",
        "\n",
        "print('\\n')\n",
        "\n",
        "print('Ridge')\n",
        "print('R2 Score - ', combo_list[r2_rd],' : ',combo_r2_rd[r2_rd])\n",
        "print('CV Score - ', combo_list[cv_rd],' : ',combo_cv_rd[cv_rd])\n",
        "\n",
        "print('\\n')\n",
        "\n",
        "print('Lasso')\n",
        "print('R2 Score - ', combo_list[r2_ls],' : ',combo_r2_ls[r2_ls])\n",
        "print('CV Score - ', combo_list[cv_ls],' : ',combo_cv_ls[cv_ls])"
      ],
      "metadata": {
        "colab": {
          "base_uri": "https://localhost:8080/"
        },
        "id": "EluFAyYujUno",
        "outputId": "73d4c7f5-6879-482d-eb57-9656f1000092"
      },
      "execution_count": null,
      "outputs": [
        {
          "output_type": "stream",
          "name": "stdout",
          "text": [
            "Linear Regression\n",
            "R2 Score -  ('CRIM', 'RM', 'AGE', 'DIS', 'RAD', 'TAX', 'PTRATIO')  :  0.8014551922683548\n",
            "CV Score -  ('ZN', 'CHAS', 'NOX', 'RM', 'DIS', 'RAD', 'TAX', 'PTRATIO', 'B', 'LSTAT')  :  0.7641357941940493\n",
            "\n",
            "\n",
            "Ridge\n",
            "R2 Score -  ('CRIM', 'NOX', 'RM', 'AGE', 'DIS', 'RAD', 'TAX', 'PTRATIO')  :  0.8055404905250592\n",
            "CV Score -  ('ZN', 'CHAS', 'NOX', 'RM', 'DIS', 'RAD', 'TAX', 'PTRATIO', 'B', 'LSTAT')  :  0.7614766890656559\n",
            "\n",
            "\n",
            "Lasso\n",
            "R2 Score -  ('INDUS', 'RM', 'DIS', 'RAD', 'TAX', 'PTRATIO', 'B', 'LSTAT')  :  0.705761537545476\n",
            "CV Score -  ('ZN', 'RM', 'DIS', 'RAD', 'TAX', 'PTRATIO', 'B', 'LSTAT')  :  0.6985272514117205\n"
          ]
        }
      ]
    }
  ]
}